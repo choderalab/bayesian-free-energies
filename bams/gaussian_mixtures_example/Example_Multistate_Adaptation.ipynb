{
 "cells": [
  {
   "cell_type": "code",
   "execution_count": 1,
   "metadata": {
    "collapsed": true
   },
   "outputs": [],
   "source": [
    "import numpy as np\n",
    "import matplotlib.pyplot as plt\n",
    "%matplotlib inline\n",
    "from harmonic_mixture_sampler import GaussianMixtureSwapper\n",
    "from bayes_adaptive_fitter import BayesAdaptor \n",
    "from adaptive_tools import *"
   ]
  },
  {
   "cell_type": "markdown",
   "metadata": {},
   "source": [
    "# Example for Bayesian adaptive method\n",
    "\n",
    "This notebook demostrates the functionality of the `BayesAdaptor` class, which provides all of the tools necessary for adaptive Bayesian estimation of free energies. `BayesAdaptor` takes state counts from multinomial mixture sampling, performs Bayesian estimation of the free energies, and generates biasing potentials for the next round of mixture sampling to ensure subsequent data is maximally informative."
   ]
  },
  {
   "cell_type": "markdown",
   "metadata": {},
   "source": [
    "### Hyperparameters for adaptive method "
   ]
  },
  {
   "cell_type": "code",
   "execution_count": 2,
   "metadata": {
    "collapsed": false
   },
   "outputs": [
    {
     "name": "stdout",
     "output_type": "stream",
     "text": [
      "Total number of counts per cycle: 5\n"
     ]
    }
   ],
   "source": [
    "# Defining the prior information.\n",
    "prior = 'gaussian'\n",
    "spread = 10.0\n",
    "location = 0.0\n",
    "\n",
    "# The zeta sampling scheme\n",
    "method = 'thompson'\n",
    "logistic = False\n",
    "\n",
    "# Number of adaptive cycles\n",
    "ncycles = 50\n",
    "\n",
    "# Number of iterations and data thinning from Gaussian mixture sampling\n",
    "niterations = 250\n",
    "save_freq = 50\n",
    "print 'Total number of counts per cycle:', niterations/save_freq\n",
    "\n",
    "# Emcee parameters for sampling from the posterior distribution of free energies\n",
    "nmoves = 500\n",
    "nwalkers = 10\n",
    "burnin = 100"
   ]
  },
  {
   "cell_type": "markdown",
   "metadata": {},
   "source": [
    "## Adaptive estimate for 2 state system"
   ]
  },
  {
   "cell_type": "code",
   "execution_count": 3,
   "metadata": {
    "collapsed": false
   },
   "outputs": [
    {
     "name": "stdout",
     "output_type": "stream",
     "text": [
      "Target: 23.1013492338\n"
     ]
    }
   ],
   "source": [
    "# Generating the target free energy from the prior\n",
    "f_true = gen_free_energy(prior, spread, location, size=1)\n",
    "sigmas = gen_sigmas(1.0, f_true)\n",
    "\n",
    "# The initial biasing potential and counts\n",
    "zetas = [[0.0, 0.0]]\n",
    "counts = []\n",
    "\n",
    "# Pre-assigment for data collection\n",
    "map_estimate = []\n",
    "median = []\n",
    "lowerq = []\n",
    "upperq = []\n",
    "\n",
    "print 'Target:', f_true[0]\n",
    "for i in range(ncycles):\n",
    "    # Sample from mixture\n",
    "    sampler = GaussianMixtureSwapper(sigmas=sigmas, zetas=zetas[i])\n",
    "    sampler.sample_mixture(niterations=niterations, save_freq=save_freq)\n",
    "    counts.append(sampler.state_counter)\n",
    "    # Sample from the posterior\n",
    "    adaptor = BayesAdaptor(zetas=np.array(zetas), counts=np.array(counts), prior=prior, spread=spread, location=location)\n",
    "    adaptor.sample_posterior(nwalkers=nwalkers, nmoves=nmoves)\n",
    "    # Sample a new biasing potential\n",
    "    zetas.append([0, adaptor.gen_biases(method=method, logistic=logistic)])\n",
    "    # Collect data\n",
    "    m = np.percentile(adaptor.flat_samples, 50)\n",
    "    mp = adaptor.map_estimator(f_guess=np.hstack((0.0, m)))\n",
    "    map_estimate.append(mp)\n",
    "    median.append(m)\n",
    "    lowerq.append(np.percentile(adaptor.flat_samples, 97.5))\n",
    "    upperq.append(np.percentile(adaptor.flat_samples, 2.5))"
   ]
  },
  {
   "cell_type": "markdown",
   "metadata": {},
   "source": [
    "### Plotting results\n",
    "Viewing the median (thick line), true free energy (dotted line), and 95% credible region (light color)."
   ]
  },
  {
   "cell_type": "code",
   "execution_count": 4,
   "metadata": {
    "collapsed": false
   },
   "outputs": [
    {
     "data": {
      "image/png": "[encoded data removed]",
      "text/plain": [
       "<matplotlib.figure.Figure at 0x11299d0d0>"
      ]
     },
     "metadata": {},
     "output_type": "display_data"
    }
   ],
   "source": [
    "x = range(len(median))\n",
    "color = 0\n",
    "plt.clf()\n",
    "plt.plot(x, median, color=tableau4[color], lw=2)\n",
    "plt.axhline(y = f_true, color=tableau4[color], ls='--', lw=1)\n",
    "plt.fill_between(x,lowerq, upperq, facecolor=tableau4_light[color], linewidth=0, alpha=0.3, interpolate=True)\n",
    "plt.title('Relative free energy between two states', fontsize=14)\n",
    "plt.xlabel('Iteration', fontsize=12)\n",
    "plt.ylabel('Free energy (unitless)', fontsize=12)\n",
    "plt.show()"
   ]
  },
  {
   "cell_type": "markdown",
   "metadata": {},
   "source": [
    "## Adaptive estimate for 5 state system"
   ]
  },
  {
   "cell_type": "code",
   "execution_count": 5,
   "metadata": {
    "collapsed": false
   },
   "outputs": [
    {
     "name": "stdout",
     "output_type": "stream",
     "text": [
      "Target: [  1.63595262  -6.828223     2.46969253 -13.54831475]\n"
     ]
    }
   ],
   "source": [
    "# Generating the target free energy from the prior\n",
    "f_true = gen_free_energy(prior, spread, location, size=4)\n",
    "sigmas = gen_sigmas(1.0, f_true)\n",
    "\n",
    "# The initial biasing potential and counts\n",
    "zetas = [np.array([0.0, 0.0, 0.0, 0.0, 0.0])]\n",
    "counts = []\n",
    "\n",
    "# Pre-assigment for data collection\n",
    "map_estimate = []\n",
    "median = []\n",
    "lowerq = []\n",
    "upperq = []\n",
    "\n",
    "print 'Target:', f_true\n",
    "ncycles=40\n",
    "for i in range(ncycles):\n",
    "    # Sample from mixture\n",
    "    sampler = GaussianMixtureSwapper(sigmas=sigmas, zetas=zetas[i])\n",
    "    sampler.sample_mixture(niterations=niterations, save_freq=save_freq)\n",
    "    counts.append(sampler.state_counter)\n",
    "    # Sample from the posterior\n",
    "    adaptor = BayesAdaptor(zetas=np.array(zetas), counts=np.array(counts), prior=prior, spread=spread, location=location)\n",
    "    adaptor.sample_posterior(nwalkers=nwalkers, nmoves=nmoves)\n",
    "    # Sample a new biasing potential\n",
    "    zetas.append(np.hstack((0.0, adaptor.gen_biases(method=method, logistic=logistic))))\n",
    "    # Collect data\n",
    "    map_estimate.append(adaptor.map_estimator())\n",
    "    median.append(np.percentile(adaptor.flat_samples, 50, axis=0))\n",
    "    lowerq.append(np.percentile(adaptor.flat_samples, 97.5, axis=0))\n",
    "    upperq.append(np.percentile(adaptor.flat_samples, 2.5,axis=0))\n",
    "map_estimate = np.array(map_estimate)\n",
    "median = np.array(median)\n",
    "lowerq = np.array(lowerq)\n",
    "upperq = np.array(upperq)"
   ]
  },
  {
   "cell_type": "code",
   "execution_count": 6,
   "metadata": {
    "collapsed": false
   },
   "outputs": [
    {
     "data": {
      "image/png": "[encoded data removed]",
      "text/plain": [
       "<matplotlib.figure.Figure at 0x1129e0950>"
      ]
     },
     "metadata": {},
     "output_type": "display_data"
    }
   ],
   "source": [
    "x = np.arange(map_estimate.shape[0])\n",
    "for i in range(4):\n",
    "    plt.plot(x, map_estimate[:,i], color=tableau4[i], lw=2)\n",
    "    plt.axhline(y = f_true[i], color=tableau4[i], ls='--', lw=1)\n",
    "    plt.fill_between(x, lowerq[:,i], upperq[:,i], facecolor=tableau4_light[i], linewidth=0, alpha=0.3, interpolate=True)\n",
    "plt.title('Relative free energy between 5 states', fontsize=14)\n",
    "plt.xlabel('Iteration', fontsize=12)\n",
    "plt.ylabel('Free energy (unitless)', fontsize=12)\n",
    "plt.show()"
   ]
  },
  {
   "cell_type": "markdown",
   "metadata": {
    "collapsed": true
   },
   "source": [
    "# Zeta sampling test\n",
    "Does sampling $\\zeta$ from a logistic distribution centered on the true value of $f$ decrease the variance of the posterior faster than sampling at the true value of $f$?."
   ]
  },
  {
   "cell_type": "code",
   "execution_count": 7,
   "metadata": {
    "collapsed": false
   },
   "outputs": [
    {
     "name": "stdout",
     "output_type": "stream",
     "text": [
      "f_true = 1.73019760927\n"
     ]
    }
   ],
   "source": [
    "# Generating the free energy and distribution from prior\n",
    "f_true = gen_free_energy(prior, spread, location)[0]\n",
    "sigmas = gen_sigmas(1.0, f_true)\n",
    "print 'f_true =', f_true\n",
    "\n",
    "# Setting the hyperparamters of the study\n",
    "nrepeats = 1\n",
    "ncycles = 1"
   ]
  },
  {
   "cell_type": "markdown",
   "metadata": {},
   "source": [
    "### Setting $\\zeta = f$"
   ]
  },
  {
   "cell_type": "code",
   "execution_count": 8,
   "metadata": {
    "collapsed": false
   },
   "outputs": [
    {
     "ename": "NameError",
     "evalue": "name 'MultinomialBayes' is not defined",
     "output_type": "error",
     "traceback": [
      "\u001b[0;31m---------------------------------------------------------------------------\u001b[0m",
      "\u001b[0;31mNameError\u001b[0m                                 Traceback (most recent call last)",
      "\u001b[0;32m<ipython-input-8-248b0cf2b474>\u001b[0m in \u001b[0;36m<module>\u001b[0;34m()\u001b[0m\n\u001b[1;32m     16\u001b[0m         \u001b[0mcounts\u001b[0m\u001b[0;34m.\u001b[0m\u001b[0mappend\u001b[0m\u001b[0;34m(\u001b[0m\u001b[0msampler\u001b[0m\u001b[0;34m.\u001b[0m\u001b[0mstate_counter\u001b[0m\u001b[0;34m)\u001b[0m\u001b[0;34m\u001b[0m\u001b[0m\n\u001b[1;32m     17\u001b[0m         \u001b[0;31m# Sample from the posterior\u001b[0m\u001b[0;34m\u001b[0m\u001b[0;34m\u001b[0m\u001b[0m\n\u001b[0;32m---> 18\u001b[0;31m         \u001b[0mfitter\u001b[0m \u001b[0;34m=\u001b[0m \u001b[0mMultinomialBayes\u001b[0m\u001b[0;34m(\u001b[0m\u001b[0mzetas\u001b[0m\u001b[0;34m=\u001b[0m\u001b[0mnp\u001b[0m\u001b[0;34m.\u001b[0m\u001b[0marray\u001b[0m\u001b[0;34m(\u001b[0m\u001b[0mzetas\u001b[0m\u001b[0;34m)\u001b[0m\u001b[0;34m,\u001b[0m \u001b[0mcounts\u001b[0m\u001b[0;34m=\u001b[0m\u001b[0mnp\u001b[0m\u001b[0;34m.\u001b[0m\u001b[0marray\u001b[0m\u001b[0;34m(\u001b[0m\u001b[0mcounts\u001b[0m\u001b[0;34m)\u001b[0m\u001b[0;34m,\u001b[0m \u001b[0mprior\u001b[0m\u001b[0;34m=\u001b[0m\u001b[0mprior\u001b[0m\u001b[0;34m,\u001b[0m \u001b[0mspread\u001b[0m\u001b[0;34m=\u001b[0m\u001b[0mspread\u001b[0m\u001b[0;34m,\u001b[0m \u001b[0mlocation\u001b[0m\u001b[0;34m=\u001b[0m\u001b[0mlocation\u001b[0m\u001b[0;34m)\u001b[0m\u001b[0;34m\u001b[0m\u001b[0m\n\u001b[0m\u001b[1;32m     19\u001b[0m         \u001b[0mbayes_samps\u001b[0m \u001b[0;34m=\u001b[0m \u001b[0mfitter\u001b[0m\u001b[0;34m.\u001b[0m\u001b[0msample_posterior\u001b[0m\u001b[0;34m(\u001b[0m\u001b[0mnwalkers\u001b[0m\u001b[0;34m=\u001b[0m\u001b[0mnwalkers\u001b[0m\u001b[0;34m,\u001b[0m \u001b[0mnmoves\u001b[0m\u001b[0;34m=\u001b[0m\u001b[0mnmoves\u001b[0m\u001b[0;34m)\u001b[0m\u001b[0;34m\u001b[0m\u001b[0m\n\u001b[1;32m     20\u001b[0m         \u001b[0mbayes_samps\u001b[0m \u001b[0;34m=\u001b[0m \u001b[0mbayes_samps\u001b[0m\u001b[0;34m[\u001b[0m\u001b[0;34m:\u001b[0m\u001b[0;34m,\u001b[0m \u001b[0mburnin\u001b[0m\u001b[0;34m:\u001b[0m\u001b[0;34m,\u001b[0m \u001b[0;34m:\u001b[0m\u001b[0;34m]\u001b[0m\u001b[0;34m.\u001b[0m\u001b[0mreshape\u001b[0m\u001b[0;34m(\u001b[0m\u001b[0;34m(\u001b[0m\u001b[0;34m-\u001b[0m\u001b[0;36m1\u001b[0m\u001b[0;34m)\u001b[0m\u001b[0;34m)\u001b[0m\u001b[0;34m\u001b[0m\u001b[0m\n",
      "\u001b[0;31mNameError\u001b[0m: name 'MultinomialBayes' is not defined"
     ]
    }
   ],
   "source": [
    "# Pre-assigment\n",
    "bias_equal = []\n",
    "variance_equal = []\n",
    "\n",
    "nrepeats = 10\n",
    "ncycles = 15\n",
    "for r in range(nrepeats):\n",
    "    zetas = [[0.0, f_true]]\n",
    "    counts = []\n",
    "    bias = []\n",
    "    variance = []\n",
    "    for i in range(ncycles):\n",
    "        # Sample from mixture\n",
    "        sampler = GaussianMixtureSwapper(sigmas=sigmas, zetas=zetas[i])\n",
    "        sampler.sample_mixture(niterations=niterations, save_freq=save_freq)\n",
    "        counts.append(sampler.state_counter)\n",
    "        # Sample from the posterior\n",
    "        fitter = MultinomialBayes(zetas=np.array(zetas), counts=np.array(counts), prior=prior, spread=spread, location=location)\n",
    "        bayes_samps = fitter.sample_posterior(nwalkers=nwalkers, nmoves=nmoves)\n",
    "        bayes_samps = bayes_samps[:, burnin:, :].reshape((-1))\n",
    "        # Setting the new biasing potential to be the same as before\n",
    "        zetas.append([0.0, f_true])\n",
    "        # Collect data\n",
    "        median = np.percentile(bayes_samps, 50)\n",
    "        bias.append((f_true - fitter.map_estimator(f_guess=np.hstack((0.0, median)))[1])**2)\n",
    "        variance.append(np.var(bayes_samps))\n",
    "    bias_equal.append(np.array(bias))\n",
    "    variance_equal.append(np.array(variance))\n",
    "    print 'repeat {0} compete'.format(r)"
   ]
  },
  {
   "cell_type": "markdown",
   "metadata": {},
   "source": [
    "### Sampling $\\zeta \\sim \\text{Logistic}(f)$"
   ]
  },
  {
   "cell_type": "code",
   "execution_count": null,
   "metadata": {
    "collapsed": false
   },
   "outputs": [],
   "source": [
    "# Pre-assigment\n",
    "bias_logistic = []\n",
    "variance_logistic = []\n",
    "\n",
    "nrepeats = 10\n",
    "ncycles = 15\n",
    "for r in range(nrepeats):\n",
    "    zetas = [[0.0, f_true]]\n",
    "    counts = []\n",
    "    bias = []\n",
    "    variance = []\n",
    "    for i in range(ncycles):\n",
    "        # Sample from mixture\n",
    "        sampler = GaussianMixtureSwapper(sigmas=sigmas, zetas=zetas[i])\n",
    "        sampler.sample_mixture(niterations=niterations, save_freq=save_freq)\n",
    "        counts.append(sampler.state_counter)\n",
    "        # Sample from the posterior\n",
    "        fitter = MultinomialBayes(zetas=np.array(zetas), counts=np.array(counts), prior=prior, spread=spread, location=location)\n",
    "        bayes_samps = fitter.sample_posterior(nwalkers=nwalkers, nmoves=nmoves)\n",
    "        bayes_samps = bayes_samps[:, burnin:, :].reshape((-1))\n",
    "        # Sampling zeta from logistic distribution about f_true\n",
    "        zetas.append([0, gen_zeta((f_true, f_true), 'logistic')])\n",
    "        # Collect data\n",
    "        median = np.percentile(bayes_samps, 50)\n",
    "        bias.append((f_true - fitter.map_estimator(f_guess=np.hstack((0.0, median)))[1])**2)\n",
    "        variance.append(np.var(bayes_samps))\n",
    "    bias_logistic.append(np.array(bias))\n",
    "    variance_logistic.append(np.array(variance))\n",
    "    print 'repeat {0} compete'.format(r)"
   ]
  },
  {
   "cell_type": "markdown",
   "metadata": {},
   "source": [
    "#### Collecting and plotting results"
   ]
  },
  {
   "cell_type": "code",
   "execution_count": null,
   "metadata": {
    "collapsed": true
   },
   "outputs": [],
   "source": [
    "bias_equal = np.array(bias_equal)\n",
    "bias_logistic = np.array(bias_logistic)\n",
    "variance_equal = np.array(variance_equal)\n",
    "variance_logistic = np.array(variance_logistic)"
   ]
  },
  {
   "cell_type": "code",
   "execution_count": null,
   "metadata": {
    "collapsed": false
   },
   "outputs": [],
   "source": [
    "std_error_equal = np.array(variance_equal)\n",
    "\n",
    "plt.plot(bias_equal.mean(axis=0))\n",
    "plt.plot(bias_logistic.mean(axis=0))\n",
    "plt.legend(('Equal','Logistic'))\n",
    "plt.show()"
   ]
  },
  {
   "cell_type": "code",
   "execution_count": null,
   "metadata": {
    "collapsed": false
   },
   "outputs": [],
   "source": [
    "plt.plot(variance_equal.mean(axis=0))\n",
    "plt.plot(variance_logistic.mean(axis=0))\n",
    "plt.legend(('Equal','Logistic'))\n",
    "plt.show()"
   ]
  },
  {
   "cell_type": "code",
   "execution_count": null,
   "metadata": {
    "collapsed": false
   },
   "outputs": [],
   "source": [
    "np.random.choice((2,3,4),size=1)"
   ]
  },
  {
   "cell_type": "code",
   "execution_count": null,
   "metadata": {
    "collapsed": true
   },
   "outputs": [],
   "source": []
  }
 ],
 "metadata": {
  "kernelspec": {
   "display_name": "Python 2",
   "language": "python",
   "name": "python2"
  },
  "language_info": {
   "codemirror_mode": {
    "name": "ipython",
    "version": 2
   },
   "file_extension": ".py",
   "mimetype": "text/x-python",
   "name": "python",
   "nbconvert_exporter": "python",
   "pygments_lexer": "ipython2",
   "version": "2.7.12"
  }
 },
 "nbformat": 4,
 "nbformat_minor": 0
}
