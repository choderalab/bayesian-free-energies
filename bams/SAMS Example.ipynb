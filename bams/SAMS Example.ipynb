{
 "cells": [
  {
   "cell_type": "code",
   "execution_count": 1,
   "metadata": {
    "collapsed": true
   },
   "outputs": [],
   "source": [
    "import numpy as np\n",
    "from bams.testsystems import *\n",
    "from bams.sams_adapter import SAMSAdaptor"
   ]
  },
  {
   "cell_type": "markdown",
   "metadata": {},
   "source": [
    "## Example of using SAMS with binary updates "
   ]
  },
  {
   "cell_type": "code",
   "execution_count": 2,
   "metadata": {
    "collapsed": false
   },
   "outputs": [],
   "source": [
    "f_true = np.array((0,3,1))\n",
    "\n",
    "generator = IndependentMultinomialSamper(free_energies=f_true)\n",
    "adaptor = SAMSAdaptor(nstates=3)\n",
    "\n",
    "for i in range(5000):\n",
    "    noisy = generator.sample(1)\n",
    "    state = np.where(noisy != 0)[0][0]\n",
    "    z = adaptor.update(state=state, noisy_observation=noisy, histogram=generator.state_counter)\n",
    "    generator.zetas = -z"
   ]
  },
  {
   "cell_type": "code",
   "execution_count": 3,
   "metadata": {
    "collapsed": false
   },
   "outputs": [
    {
     "name": "stdout",
     "output_type": "stream",
     "text": [
      "True = [0 3 1]\n",
      "Estimate = [-0.          2.82594988  0.99081082]\n"
     ]
    }
   ],
   "source": [
    "print('True =',f_true)\n",
    "print('Estimate =',-z)"
   ]
  },
  {
   "cell_type": "markdown",
   "metadata": {},
   "source": [
    "## Example of using SAMS with Rao-Blackwellized updates "
   ]
  },
  {
   "cell_type": "code",
   "execution_count": 4,
   "metadata": {
    "collapsed": false
   },
   "outputs": [],
   "source": [
    "f_true = np.array((0,3,1))\n",
    "sigmas = gen_sigmas(sigma1=1, f=f_true)\n",
    "\n",
    "generator = GaussianMixtureSampler(sigmas=sigmas)\n",
    "adaptor = SAMSAdaptor(nstates=len(sigmas))\n",
    "\n",
    "for i in range(5000):\n",
    "    generator.sample(2, save_freq=2)\n",
    "    state = generator.state\n",
    "    noisy = generator.weights\n",
    "    z = adaptor.update(state=state, noisy_observation=noisy, histogram=generator.state_counter)\n",
    "    generator.zetas = -z"
   ]
  },
  {
   "cell_type": "code",
   "execution_count": 5,
   "metadata": {
    "collapsed": false
   },
   "outputs": [
    {
     "name": "stdout",
     "output_type": "stream",
     "text": [
      "True = [0 3 1]\n",
      "Estimate = [-0.          2.89137995  0.97170151]\n"
     ]
    }
   ],
   "source": [
    "print('True =',f_true)\n",
    "print('Estimate =',-z)"
   ]
  }
 ],
 "metadata": {
  "kernelspec": {
   "display_name": "Python 3",
   "language": "python",
   "name": "python3"
  },
  "language_info": {
   "codemirror_mode": {
    "name": "ipython",
    "version": 3
   },
   "file_extension": ".py",
   "mimetype": "text/x-python",
   "name": "python",
   "nbconvert_exporter": "python",
   "pygments_lexer": "ipython3",
   "version": "3.5.2"
  }
 },
 "nbformat": 4,
 "nbformat_minor": 2
}
