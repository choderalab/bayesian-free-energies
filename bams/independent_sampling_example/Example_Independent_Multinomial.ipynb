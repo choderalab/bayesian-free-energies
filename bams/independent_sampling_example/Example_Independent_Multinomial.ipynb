{
 "cells": [
  {
   "cell_type": "code",
   "execution_count": 1,
   "metadata": {
    "collapsed": false
   },
   "outputs": [],
   "source": [
    "import numpy as np\n",
    "import matplotlib.pyplot as plt\n",
    "%matplotlib inline\n",
    "from bams.bayes_adaptive_fitter import BayesAdaptor \n",
    "from bams.adaptive_tools import *"
   ]
  },
  {
   "cell_type": "markdown",
   "metadata": {},
   "source": [
    "# Generating statistically independent histogram counts\n",
    "`BAMS` requires statistically independent state counts in order to perform reliable inference. This notebook generates these independent histogram counts using `np.random.multinomial`."
   ]
  },
  {
   "cell_type": "markdown",
   "metadata": {},
   "source": [
    "## Adaptive estimate for 5 state system  "
   ]
  },
  {
   "cell_type": "markdown",
   "metadata": {},
   "source": [
    "#### Hyperparameters"
   ]
  },
  {
   "cell_type": "code",
   "execution_count": 2,
   "metadata": {
    "collapsed": true
   },
   "outputs": [],
   "source": [
    "prior = 'gaussian'    # Choice is between 'gaussian' and 'cauchy'\n",
    "spread = 100.0      # (Half the interquartile range in the cauchy function)\n",
    "location = 0.0\n",
    "\n",
    "# The zeta sampling scheme\n",
    "method = 'thompson'  # Use the MAP estimate of the free energy to select the next biasing potential\n",
    "logistic = False\n",
    "\n",
    "# Number of mixture samples per iteration\n",
    "nsamps = 1\n",
    "\n",
    "# Emcee parameters for sampling from the posterior distribution of free energies\n",
    "nmoves = 500\n",
    "nwalkers = 10\n",
    "burnin = 100"
   ]
  },
  {
   "cell_type": "markdown",
   "metadata": {},
   "source": [
    "**Generating the targets**"
   ]
  },
  {
   "cell_type": "code",
   "execution_count": 3,
   "metadata": {
    "collapsed": false
   },
   "outputs": [
    {
     "name": "stdout",
     "output_type": "stream",
     "text": [
      "Target: [   0.          167.18643585   97.21342353  -29.65187617 -176.26758759]\n",
      "probs: [  2.80517121e-077   6.91532879e-150   1.69319106e-119   2.11643810e-064\n",
      "   1.00000000e+000]\n"
     ]
    }
   ],
   "source": [
    "# Generating the target free energy from the prior\n",
    "f_true = -np.random.uniform(-200,200,size=4)\n",
    "p = np.hstack((1, np.exp(-f_true)))\n",
    "p = p / np.sum(p)\n",
    "print 'Target:', np.hstack((0,f_true))\n",
    "print 'probs:', p"
   ]
  },
  {
   "cell_type": "code",
   "execution_count": 4,
   "metadata": {
    "collapsed": true
   },
   "outputs": [],
   "source": [
    "# The initial biasing potential is drawn from the prior\n",
    "#zetas = [np.hstack((0.0, gen_free_energy(prior, spread, location, size=4)))]\n",
    "zetas = [np.repeat(0,5)]\n",
    "counts = []\n",
    "\n",
    "# Pre-assigment for data collection\n",
    "map_estimate = []\n",
    "median = []\n",
    "lowerq = []\n",
    "upperq = []\n",
    "ncycles = 25\n",
    "for i in range(ncycles):\n",
    "    # Sample from multinomial\n",
    "    q = p*np.exp(zetas[-1])\n",
    "    q = q / np.sum(q)\n",
    "    counts.append(np.random.multinomial(nsamps,q))\n",
    "    # Sample from the posterior\n",
    "    adaptor = BayesAdaptor(zetas=np.array(zetas), counts=np.array(counts), prior=prior, spread=spread, location=location)\n",
    "    adaptor.sample_posterior(nwalkers=nwalkers, nmoves=nmoves)\n",
    "    # Sample a new biasing potential\n",
    "    zetas.append(np.hstack((0.0, adaptor.gen_biases(method=method, logistic=logistic))))\n",
    "    # Collect data\n",
    "    map_estimate.append(adaptor.map_estimator())\n",
    "    median.append(np.percentile(adaptor.flat_samples, 50, axis=0))\n",
    "    upperq.append(np.percentile(adaptor.flat_samples, 97.5, axis=0))\n",
    "    lowerq.append(np.percentile(adaptor.flat_samples, 2.5,axis=0))\n",
    "map_estimate = np.array(map_estimate)\n",
    "median = np.array(median)\n",
    "lowerq = np.array(lowerq)\n",
    "upperq = np.array(upperq)"
   ]
  },
  {
   "cell_type": "code",
   "execution_count": 5,
   "metadata": {
    "collapsed": false
   },
   "outputs": [
    {
     "data": {
      "image/png": "[encoded data removed]"
     },
     "metadata": {},
     "output_type": "display_data"
    }
   ],
   "source": [
    "plt.clf()\n",
    "x = np.arange(map_estimate.shape[0])\n",
    "for i in range(4):\n",
    "    plt.plot(x, map_estimate[:,i], color=tableau4[i], lw=2)\n",
    "    plt.axhline(y = f_true[i], color=tableau4[i], ls='--', lw=1)\n",
    "    plt.fill_between(x, lowerq[:,i], upperq[:,i], facecolor=tableau4_light[i], linewidth=0, alpha=0.3, interpolate=True)\n",
    "plt.ylim((-215,215))\n",
    "#plt.ylim((-135,-120))\n",
    "plt.title('Relative free energy between 5 states', fontsize=14)\n",
    "plt.xlabel('Iteration', fontsize=12)\n",
    "plt.ylabel('Free energy (unitless)', fontsize=12)\n",
    "plt.show()"
   ]
  },
  {
   "cell_type": "markdown",
   "metadata": {
    "collapsed": true
   },
   "source": [
    "The full lines represent the free energy estimates as a function of the `BAMS` iteration, and the dotted lines indicate the target free energies. As can be seen, convergence of the estimates is swift when the counts are independent, and the 95 percent credible regions appear to encompass the target at all iterations. "
   ]
  },
  {
   "cell_type": "code",
   "execution_count": null,
   "metadata": {
    "collapsed": true
   },
   "outputs": [],
   "source": []
  }
 ],
 "metadata": {
  "kernelspec": {
   "display_name": "Python 2",
   "language": "python",
   "name": "python2"
  },
  "language_info": {
   "codemirror_mode": {
    "name": "ipython",
    "version": 2
   },
   "file_extension": ".py",
   "mimetype": "text/x-python",
   "name": "python",
   "nbconvert_exporter": "python",
   "pygments_lexer": "ipython2",
   "version": "2.7.11"
  }
 },
 "nbformat": 4,
 "nbformat_minor": 0
}
