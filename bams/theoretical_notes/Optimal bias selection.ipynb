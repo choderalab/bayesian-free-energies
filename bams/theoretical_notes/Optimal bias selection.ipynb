{
 "cells": [
  {
   "cell_type": "code",
   "execution_count": 1,
   "metadata": {
    "collapsed": true
   },
   "outputs": [],
   "source": [
    "import numpy as np\n",
    "from matplotlib import pylab as plt\n",
    "%matplotlib inline"
   ]
  },
  {
   "cell_type": "markdown",
   "metadata": {},
   "source": [
    "# Selecting optimal biases for BAMS\n",
    "This notebook outlines a way to provide maximally informative biases in the iterative\n",
    "BAMS procedure\n",
    "\n",
    "## Two state state system\n",
    "The likelihood for the state counts is the binomial distribution, which, for $n$ success out of $N$ samples given by \n",
    "\n",
    "$$ f(n | \\Delta f, \\zeta) \\propto p(\\Delta f, \\zeta)^n \\, (1 - p(\\Delta f, \\zeta))^{N - n}$$\n",
    "\n",
    "where\n",
    "\n",
    "$$ p(\\Delta f, \\zeta) = \\frac{1}{1 + \\exp(\\Delta f - \\zeta)} $$\n",
    "\n",
    "which is the logisitic function.\n",
    "\n",
    "If $\\Delta f$ is the unknown parameter of interest, and we can sample from $f(n | \\Delta f, \\zeta)$ at any value of $\\zeta$ we want, what value of $\\zeta$ should one choose to sample from in order to obtain the best estimate of $\\Delta f$? There are a number of ways to approach this problem. In this notebook, I will consider choosing $\\zeta$ to 1. minimize the expected variance and 2. maximize the gain in information. "
   ]
  },
  {
   "cell_type": "markdown",
   "metadata": {},
   "source": [
    "## 1. Pick  $\\zeta$ to minimize the expected variance in $\\Delta f$\n",
    "For this route, we require an expression for the variance of $\\Delta f$ as a function of $\\zeta$. One approach is the exploit the Cramer-Rao lower bound for the variance of $\\Delta f$:\n",
    "\n",
    "$$ \\text{Var}(\\Delta f|\\zeta) \\geq \\frac{1}{I(\\Delta f|\\zeta)} $$\n",
    "\n",
    "where $I(\\Delta f|\\zeta)$ is the Fischer information of $f(n | \\Delta f, \\zeta)$, and is given by\n",
    "\n",
    "$$ I(\\Delta f|\\zeta) = \\mathop{\\mathbb{E}} \\left [ \\left (\\frac{\\partial}{\\partial \\Delta f }\\log(f(n | \\Delta f, \\zeta)) \\right)^2\\right]$$\n",
    "\n",
    "After a some alegrebra, this can be shown to be\n",
    "\n",
    "$$ I(\\Delta f|\\zeta) = \\frac{N}{p(\\Delta f, \\zeta)(1-p(\\Delta f, \\zeta))}$$\n",
    "\n",
    "such that\n",
    "\n",
    "$$\\text{Var}(\\Delta f|\\zeta) \\geq \\frac{p(\\Delta f, \\zeta)(1-p(\\Delta f, \\zeta))}{N} $$\n",
    "\n",
    "The lower bound has the form $x(1-x)$, $0 \\leq x \\leq 1$ , which, by inspection, has a maximum at x=0.5. This implies that the variance is maximized at $\\zeta = \\Delta f$ because $p(\\Delta f, \\zeta)$ is the logistic function. To confirm this, we can see what this looks like by plotting the Cramer-Rao lower bound as a function of $\\zeta$.\n",
    "\n",
    "Defining a couple of functions will be defined first:"
   ]
  },
  {
   "cell_type": "code",
   "execution_count": 2,
   "metadata": {
    "collapsed": true
   },
   "outputs": [],
   "source": [
    "def logistic(f, zeta):\n",
    "    \"\"\"\n",
    "    The logistic function, which is the probability for observing one success in the above model. \n",
    "    \"\"\"\n",
    "    return 1/(1 + np.exp(f - zeta))\n",
    "\n",
    "def logistic_pdf(f, zeta, s=1):\n",
    "    \"\"\"\n",
    "    The pdf of logistic distribution, for comparison to the lower bound to the variance.\n",
    "    \"\"\"\n",
    "    numerator = np.exp((f - zeta)/s)\n",
    "    denominator = s*((1 + np.exp((f - zeta)/s))**2)\n",
    "    return numerator / denominator\n",
    "    \n",
    "def var_lower_bound(f,zeta,N=10):\n",
    "    \"\"\"\n",
    "    The Cramer Rao lower bound of the variance in the binomial likelihood.\n",
    "    \"\"\"\n",
    "    return logistic(f, zeta)*(1 - logistic(f, zeta))/N"
   ]
  },
  {
   "cell_type": "code",
   "execution_count": 3,
   "metadata": {
    "collapsed": false
   },
   "outputs": [
    {
     "data": {
      "image/png": "[encoded data removed]"
     },
     "metadata": {},
     "output_type": "display_data"
    }
   ],
   "source": [
    "# Defining the parameters:\n",
    "f = 0\n",
    "N = 10\n",
    "zetas = np.arange(-5, 5,0.1)\n",
    "\n",
    "# Calculating the Cramer-Rao lower bound\n",
    "v = var_lower_bound(f=f, zeta = zetas,N=N)\n",
    "density = logistic_pdf(f, zetas, s=1)\n",
    "density = density/density.max()*v.max()\n",
    "\n",
    "# Plotting\n",
    "plt.plot(zetas, v, lw=2, color='k', label='variance')\n",
    "plt.plot(zetas, density, lw=1, color='grey', ls='--', label='logistic pdf')\n",
    "plt.axvline(f, color='red', lw=2, ls='--', label='Free energy')\n",
    "plt.ylim((0, np.max(v)+0.01/N ))\n",
    "plt.ylabel('Lower bound to $Var(\\Delta f)$', fontsize = 16)\n",
    "plt.xlabel('$\\zeta$', fontsize = 16)\n",
    "plt.legend()\n",
    "plt.show()"
   ]
  },
  {
   "cell_type": "markdown",
   "metadata": {},
   "source": [
    "This confirms the assertion above that the variance is at a maximum when $\\Delta f = \\zeta$. An interesting feature about the variance lower bound has exactly the same shape as the logistic pdf. That is what I used prior to the above derivation.\n",
    "\n",
    "### Optimal samples from maximum variance\n",
    "Returing the central question, where should one sample from in order to minimize the uncertainty in $\\Delta f$? In other words, which samples decrease the variance the most? With the estimate for the variance given by the Cramer-Rao lower bound, we can see the rate of change of the varaince with respect to samples is given by\n",
    "\n",
    "$$ \\frac{\\partial \\text{Var}(\\Delta f|\\zeta) }{\\partial N} \\geq -\\frac{1}{N} \\text{Var}(\\Delta f|\\zeta)$$\n",
    "\n",
    "The most important aspect of this equation is that it is negative with respect to samples: the more samples one draws, the more the variance decrases. \n",
    "\n",
    "For a fixed $N$, samples drawn from the value of $\\zeta$ that maximises ${Var}(\\Delta f|\\zeta)$ decrease the variance the most due to the minus sign. Samples drawn from any other value of $\\zeta$ will have a lower gradient in the variance. Therefore, for a fixed $N$, the choice of $\\zeta$ that maximimises the expected decrease in the variance of $\\Delta f$ can be expressed as\n",
    "\n",
    "$$ \\zeta^* = \\text{argmax}_\\zeta \\text{Var}(\\Delta f|\\zeta) $$\n",
    "\n",
    "which for the example above, $\\zeta^*=\\Delta f$. "
   ]
  },
  {
   "cell_type": "markdown",
   "metadata": {},
   "source": [
    "## 2. Pick $\\zeta$ to maximize the information gain"
   ]
  },
  {
   "cell_type": "markdown",
   "metadata": {},
   "source": [
    "#### ROUGH DRAFT\n",
    "For the $i+1$th iteration of the algorithm, the updated posterior is given by\n",
    "\n",
    "$$ p(\\Delta f| \\zeta_{i+1}, n_{i+1}) \\propto p(n_{i+1}|\\Delta f, \\zeta_{i}) p(\\Delta f| \\zeta_{i}, n_{i}) $$\n",
    "\n",
    "for the set of counts for $(n_1,n_2,...)$ and biases $(\\zeta_1,\\zeta_2,...)$ at each iteration.\n",
    "\n",
    "The goal is to select $\\zeta_{i+1}$ so as to maximise the gain in information. This can be achieved by picking\n",
    "\n",
    "$$ \\zeta_{i+1} = \\text{argmax}_\\zeta \\, D( p(\\Delta f| \\zeta, n_{i+1}) \\, || \\,p(\\Delta f| \\zeta_{i}, n_{i})) $$\n",
    "\n",
    "where $D( p(\\Delta f| \\zeta_{i+1}, n_{i+1}) \\, || \\,p(\\Delta f| \\zeta_{i}, n_{i}))$ is the Kullback–Leibler divergence of the updates posterior with the posterior of the previous iteration. It is given by\n",
    "\n",
    "$$D( p(\\Delta f| \\zeta_{i+1}, n_{i+1}) \\, || \\,p(\\Delta f| \\zeta_{i}, n_{i})) = ...$$\n",
    "\n",
    "This choice can be shown to be [I think] picking $\\zeta$ to maximise the entropy of the likelihood."
   ]
  },
  {
   "cell_type": "code",
   "execution_count": null,
   "metadata": {
    "collapsed": true
   },
   "outputs": [],
   "source": []
  }
 ],
 "metadata": {
  "kernelspec": {
   "display_name": "Python 3",
   "language": "python",
   "name": "python3"
  },
  "language_info": {
   "codemirror_mode": {
    "name": "ipython",
    "version": 3
   },
   "file_extension": ".py",
   "mimetype": "text/x-python",
   "name": "python",
   "nbconvert_exporter": "python",
   "pygments_lexer": "ipython3",
   "version": "3.5.2"
  }
 },
 "nbformat": 4,
 "nbformat_minor": 0
}
