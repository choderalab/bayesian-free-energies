{
 "cells": [
  {
   "cell_type": "markdown",
   "metadata": {},
   "source": [
    "### SAMS binary update scheme without a burn-in period:\n",
    "\n",
    "At iteration time $t$, the bias and estimate $\\zeta$ is updated using\n",
    "\n",
    "$$\\zeta^{(t)} =  \\zeta^{(t-\\frac{1}{2})} - \\zeta_{1}^{(t-\\frac{1}{2})} $$\n",
    "\n",
    "with\n",
    "\n",
    "$$\\zeta^{(t-\\frac{1}{2})} = \\zeta^{(t-1)} + \\frac{1}{t}[\\delta_1(L_t),..., \\delta_m(L_t)] $$"
   ]
  },
  {
   "cell_type": "markdown",
   "metadata": {},
   "source": [
    "### Two stage procedure for binary update scheme\n",
    "At iteration time $t$, the bias and estimate $\\zeta$ is updated using\n",
    "\n",
    "$$\\zeta^{(t)} =  \\zeta^{(t-\\frac{1}{2})} - \\zeta_{1}^{(t-\\frac{1}{2})} $$\n",
    "\n",
    "with\n",
    "\n",
    "$$\\zeta^{(t-\\frac{1}{2})} = \\zeta^{(t-1)} + \\frac{1}{k}[\\delta_1(L_t),..., \\delta_m(L_t)] $$\n",
    "\n",
    "with \n",
    "\n",
    "$$ k = \\text{min}(\\pi_j,t^{(-\\beta)}) \\,\\, \\text{if} \\,\\, t \\leq t_0$$\n",
    "$$ k = \\text{min}(\\pi_j,(t - t _0 + t^{\\beta})^{-1}) \\,\\, \\text{if} \\,\\, t \\leq t_0$$\n",
    "\n",
    "The two-stage procedure is specific for each state. The value $t_0$ is set to the point when the $i$th state is within 20%-50% of the uniform weight."
   ]
  },
  {
   "cell_type": "code",
   "execution_count": null,
   "metadata": {
    "collapsed": true
   },
   "outputs": [],
   "source": []
  }
 ],
 "metadata": {
  "kernelspec": {
   "display_name": "Python 3",
   "language": "python",
   "name": "python3"
  },
  "language_info": {
   "codemirror_mode": {
    "name": "ipython",
    "version": 3
   },
   "file_extension": ".py",
   "mimetype": "text/x-python",
   "name": "python",
   "nbconvert_exporter": "python",
   "pygments_lexer": "ipython3",
   "version": "3.5.2"
  }
 },
 "nbformat": 4,
 "nbformat_minor": 2
}
