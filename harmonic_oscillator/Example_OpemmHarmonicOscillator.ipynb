{
 "cells": [
  {
   "cell_type": "code",
   "execution_count": 1,
   "metadata": {
    "collapsed": false
   },
   "outputs": [],
   "source": [
    "from simtk import openmm, unit\n",
    "from pymbar import timeseries as ts\n",
    "import numpy as np\n",
    "import matplotlib.pyplot as plt\n",
    "from time import time\n",
    "from harmonic_mixture_sampler import strip_in_unit_system\n",
    "%matplotlib inline"
   ]
  },
  {
   "cell_type": "markdown",
   "metadata": {},
   "source": [
    "## Preliminary example of the OpenMM harmonic oscillator\n",
    "\n",
    "The code developed here formed the basis of the `HarmonicSwapper` class in `harmonic_mixture_sampler.py`. The harmonic oscillator model used is based on https://github.com/choderalab/perses/blob/master/perses/tests/test_ncmc_integrator.py.\n",
    "\n",
    "In the last cell, it's shown that about 100 to 200 steps of Langevin dynamics are sufficient to produce effectively uncorrelated samples of radii."
   ]
  },
  {
   "cell_type": "code",
   "execution_count": 2,
   "metadata": {
    "collapsed": false
   },
   "outputs": [],
   "source": [
    "# Parameters for 3D harmonic oscillator\n",
    "kB = unit.BOLTZMANN_CONSTANT_kB * unit.AVOGADRO_CONSTANT_NA\n",
    "mass = 39.948 * unit.amu # mass of particle (argon)\n",
    "sigma = 5.0 * unit.angstrom # standard deviation of harmonic oscillator\n",
    "collision_rate = 5.0/unit.picosecond # collision rate\n",
    "temperature = 300.0 * unit.kelvin # temperature\n",
    "platform_name = 'CPU'\n",
    "\n",
    "\n",
    "# Compute derived quantities.\n",
    "kT = kB * temperature # thermal energy\n",
    "beta = 1.0 / kT # inverse energy\n",
    "K = kT / sigma**2 # spring constant\n",
    "tau = 2 * np.pi * unit.sqrt(mass/K) # time constant\n",
    "timestep = tau / 20.0\n",
    "platform = openmm.Platform.getPlatformByName(platform_name)\n",
    "\n",
    "def make_harmonic_context(K, positions = None, velocities = None):\n",
    "    # Create the system and harmonic force\n",
    "    system = openmm.System()\n",
    "    system.addParticle(mass)\n",
    "    energy_expression = '(K/2.0) * (x^2 + y^2 + z^2);'\n",
    "    force = openmm.CustomExternalForce(energy_expression)\n",
    "    force.addGlobalParameter('K', K.in_unit_system(unit.md_unit_system))\n",
    "    force.addParticle(0, [])\n",
    "    system.addForce(force)\n",
    "\n",
    "    # Create the integrator and context\n",
    "    integrator = openmm.LangevinIntegrator(temperature, collision_rate, timestep)\n",
    "    platform = openmm.Platform.getPlatformByName(platform_name)\n",
    "    context = openmm.Context(system, integrator, platform)\n",
    "    \n",
    "    # Set the positions and velocities.\n",
    "    if positions is None:\n",
    "        positions = unit.Quantity(np.zeros([1, 3], np.float32), unit.angstroms)\n",
    "    context.setPositions(positions)\n",
    "    if velocities is None:\n",
    "        context.setVelocitiesToTemperature(temperature)\n",
    "    else:\n",
    "        context.setVelocities(velocities)\n",
    "    return context, integrator, system    \n",
    "    \n",
    "    \n",
    "    \n",
    "# Create a 3D harmonic oscillator with context parameter controlling force constant\n",
    "system = openmm.System()\n",
    "system.addParticle(mass)\n",
    "energy_expression = '(K/2.0) * (x^2 + y^2 + z^2);'\n",
    "force = openmm.CustomExternalForce(energy_expression)\n",
    "force.addGlobalParameter('K', K.in_unit_system(unit.md_unit_system))\n",
    "force.addParticle(0, [])\n",
    "system.addForce(force)\n",
    "\n",
    "# Create the integrator and context\n",
    "integrator = openmm.LangevinIntegrator(temperature, collision_rate, timestep)\n",
    "platform = openmm.Platform.getPlatformByName(platform_name)\n",
    "context = openmm.Context(system, integrator, platform)\n",
    "\n",
    " # Set the positions at the origin.\n",
    "positions = unit.Quantity(np.zeros([1, 3], np.float32), unit.angstroms)\n",
    "context.setPositions(positions)\n",
    "context.setVelocitiesToTemperature(temperature)"
   ]
  },
  {
   "cell_type": "markdown",
   "metadata": {},
   "source": [
    "### What number of steps produces effectively uncorrlated samples?\n",
    "MD steps of 100 to 200 are sufficient to produce effectively uncorrelated samples of the harmonic oscillator radius."
   ]
  },
  {
   "cell_type": "code",
   "execution_count": 3,
   "metadata": {
    "collapsed": false
   },
   "outputs": [
    {
     "name": "stdout",
     "output_type": "stream",
     "text": [
      "Mean radius = 1.03954088688 Angstroms\n",
      "Variance =  0.178979\n",
      "Statisitcal inefficieny = 1.000000\n"
     ]
    },
    {
     "data": {
      "image/png": "[encoded data removed]",
      "text/plain": [
       "<matplotlib.figure.Figure at 0x1110e5810>"
      ]
     },
     "metadata": {},
     "output_type": "display_data"
    }
   ],
   "source": [
    "iterations = 100\n",
    "radii = np.zeros(iterations,dtype=np.float32)\n",
    "\n",
    "for i in range(iterations):\n",
    "    integrator.step(150)\n",
    "    pos = context.getState(getPositions=True).getPositions(asNumpy=True)\n",
    "    pos = strip_in_unit_system(pos)[0]\n",
    "    radii[i] = np.sqrt(np.sum(pos**2))\n",
    "\n",
    "print 'Mean radius = {0} Angstroms'.format(np.mean(radii))\n",
    "print 'Variance = ', np.var(radii)\n",
    "print 'Statisitcal inefficieny = {:f}'.format(ts.statisticalInefficiency(radii))\n",
    "\n",
    "plt.plot(radii)\n",
    "plt.xlabel('Iteration')\n",
    "plt.ylabel('Radius (Angs.)')\n",
    "plt.show()"
   ]
  },
  {
   "cell_type": "code",
   "execution_count": null,
   "metadata": {
    "collapsed": true
   },
   "outputs": [],
   "source": []
  }
 ],
 "metadata": {
  "kernelspec": {
   "display_name": "Python 2",
   "language": "python",
   "name": "python2"
  },
  "language_info": {
   "codemirror_mode": {
    "name": "ipython",
    "version": 2
   },
   "file_extension": ".py",
   "mimetype": "text/x-python",
   "name": "python",
   "nbconvert_exporter": "python",
   "pygments_lexer": "ipython2",
   "version": "2.7.11"
  }
 },
 "nbformat": 4,
 "nbformat_minor": 0
}
