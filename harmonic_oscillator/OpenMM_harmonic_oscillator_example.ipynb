{
 "cells": [
  {
   "cell_type": "markdown",
   "metadata": {},
   "source": [
    "# Free energy differences of two harmonic oscillators"
   ]
  },
  {
   "cell_type": "code",
   "execution_count": 1,
   "metadata": {
    "collapsed": false
   },
   "outputs": [],
   "source": [
    "from simtk import openmm, unit\n",
    "from pymbar import timeseries as ts\n",
    "import numpy as np\n",
    "import matplotlib.pyplot as plt\n",
    "from openmmtools.integrators import GHMCIntegrator\n",
    "from time import time\n",
    "%matplotlib inline"
   ]
  },
  {
   "cell_type": "code",
   "execution_count": 2,
   "metadata": {
    "collapsed": false
   },
   "outputs": [],
   "source": [
    "def strip_in_unit_system(quant, unit_system=unit.md_unit_system, compatible_with=None):\n",
    "    \"\"\"\n",
    "    Strips the unit from a simtk.units.Quantity object and returns it's value conforming to a unit system\n",
    "    Parameters\n",
    "    ----------\n",
    "    quant : simtk.unit.Quantity\n",
    "        object from which units are to be stripped\n",
    "    unit_system : simtk.unit.UnitSystem:\n",
    "        unit system to which the unit needs to be converted, default is the OpenMM unit system (md_unit_system)\n",
    "    compatible_with : simtk.unit.Unit\n",
    "        Supply to make sure that the unit is compatible with an expected unit\n",
    "    Returns\n",
    "    -------\n",
    "    quant : object with no units attached\n",
    "    \"\"\"\n",
    "    if unit.is_quantity(quant):\n",
    "        if compatible_with is not None:\n",
    "            quant = quant.in_units_of(compatible_with)\n",
    "        return quant.value_in_unit_system(unit_system)\n",
    "    else:\n",
    "        return quant"
   ]
  },
  {
   "cell_type": "code",
   "execution_count": 5,
   "metadata": {
    "collapsed": false
   },
   "outputs": [],
   "source": [
    "kB = unit.BOLTZMANN_CONSTANT_kB * unit.AVOGADRO_CONSTANT_NA\n",
    "class BayesianHarmonicSwapper(object):\n",
    "    \"\"\"\n",
    "    Class for testing Bayesian Mixture Sampling on a 3D harmonic oscillator. The harmonic oscillator is allowed to\n",
    "    alternate the force constant between two set values.\n",
    "    \"\"\"\n",
    "    \n",
    "    def __init__(self, sigma1 = 5.0 * unit.angstrom, sigma2 = 10.0 * unit.angstrom, temperature = 300.0 * unit.kelvin,\n",
    "                 zeta = (0.0, 0.0), mass = 39.948 * unit.amu, collision_rate = 5.0/unit.picosecond, platform_name = 'CPU'):\n",
    "        \"\"\"\n",
    "        Initialize the 3D harmonic oscillator with two force constants\n",
    "        \"\"\"\n",
    "        \n",
    "        if len(zeta) != 2:\n",
    "            raise Exception('zeta must be a list or tuple of floats with length 2')\n",
    "        \n",
    "        # System specific\n",
    "        self.mass = mass\n",
    "        self.temperature = temperature\n",
    "        self.kT = kB * self.temperature \n",
    "        self.kT_unitless = strip_in_unit_system(self.kT)\n",
    "        self.platform_name = platform_name\n",
    "                \n",
    "        # Force Constants\n",
    "        K1 = (self.kT / sigma1**2).in_unit_system(unit.md_unit_system)\n",
    "        K2 = (self.kT / sigma2**2).in_unit_system(unit.md_unit_system) \n",
    "\n",
    "        self.K = (K1,K2)\n",
    "        self.zeta = (zeta[0],zeta[1])\n",
    "        \n",
    "        \n",
    "        # Choose the intiial force constant\n",
    "        self.state = np.random.choice((0,1))\n",
    "        self.K_current = self.K[self.state]\n",
    "        self.zeta_current = self.zeta[self.state]\n",
    "        \n",
    "        #self.K_current = np.random.choice((self.K1, self.K2))\n",
    "        #self.K_current_unitless = strip_in_unit_system(self.K_current)\n",
    "        \n",
    "        # Integrator specific\n",
    "        self.collision_rate = collision_rate  \n",
    "        tau = 2 * np.pi * unit.sqrt(self.mass / (K1/2.0 + K2/2.0)) # time constant\n",
    "        self.timestep = tau / 20.0\n",
    "\n",
    "        # The openmm system\n",
    "        (self.context, self.integrator, self.system) = self.make_harmonic_context(self.K_current)\n",
    "        \n",
    "        # The counting statistics, which tracks the number in the second state\n",
    "        self.state_counter = 0\n",
    "        self.nmoves = 0\n",
    "        \n",
    "    def make_harmonic_context(self, K, positions = None, velocities = None):\n",
    "        \"\"\"\n",
    "        Create the system in openmm with for a specified force constant.\n",
    "        \"\"\"\n",
    "        # Create the system and harmonic force\n",
    "        system = openmm.System()\n",
    "        system.addParticle(self.mass)\n",
    "        energy_expression = '(K/2.0) * (x^2 + y^2 + z^2);'\n",
    "        force = openmm.CustomExternalForce(energy_expression)\n",
    "        force.addGlobalParameter('K', K.in_unit_system(unit.md_unit_system))\n",
    "        force.addParticle(0, [])\n",
    "        system.addForce(force)\n",
    "\n",
    "        # Create the integrator and context\n",
    "        integrator = openmm.LangevinIntegrator(self.temperature, self.collision_rate, self.timestep)\n",
    "        platform = openmm.Platform.getPlatformByName(self.platform_name)\n",
    "        context = openmm.Context(system, integrator, platform)\n",
    "    \n",
    "        # Set the positions and velocities.\n",
    "        if positions is None:\n",
    "            positions = unit.Quantity(np.zeros([1, 3], np.float32), unit.angstroms)\n",
    "        context.setPositions(positions)\n",
    "        if velocities is None:\n",
    "            context.setVelocitiesToTemperature(self.temperature)\n",
    "        else:\n",
    "            context.setVelocities(velocities)\n",
    "    \n",
    "        return context, integrator, system   \n",
    "\n",
    "    def get_energy(self, positions, K):\n",
    "        \"\"\"\n",
    "        Calculate the harmonic bond energy for a given set of positions and force constant.\n",
    "        \n",
    "        Parameters\n",
    "        ----------\n",
    "        positions: numpy array of floats\n",
    "          the x,y,z coordinates of the particle\n",
    "        K : float\n",
    "          the force constant in the openmm units\n",
    "        \n",
    "        Returns\n",
    "        -------\n",
    "        energy: float\n",
    "          the energy of the harmonic oscillator\n",
    "        \n",
    "        \"\"\"\n",
    "        return np.sqrt(np.sum(positions**2)) * K / 2.0 / self.kT_unitless\n",
    "\n",
    "    def attempt_swap(self):\n",
    "        \"\"\"\n",
    "        Metropolis-Hastings trial move to change the force constant\n",
    "        \n",
    "        Returns\n",
    "        -------\n",
    "        state: int\n",
    "          the index of the current state (either 0 or 1)\n",
    "        \"\"\"\n",
    "    \n",
    "        # Mixture sampling with Metropolis-Hastings\n",
    "        initial_positions = self.context.getState(getPositions=True).getPositions(asNumpy=True)\n",
    "        initial_velocities = self.context.getState(getVelocities=True).getVelocities(asNumpy=True)        \n",
    "        initial_energy = self.get_energy(initial_positions, strip_in_unit_system(self.K_current) )\n",
    "        initial_K = self.K_current\n",
    "        \n",
    "        # Pick a random force constant\n",
    "        new_state = np.random.choice((0, 1))\n",
    "        new_K = self.K[new_state]\n",
    "        new_zeta = self.zeta[new_state]\n",
    "        if new_state != self.state :\n",
    "            final_energy = self.get_energy(initial_positions, strip_in_unit_system(new_K))\n",
    "            log_accept = -(final_energy - initial_energy) + (new_zeta - self.zeta_current)\n",
    "            if  (log_accept > 0.0) or (np.random.random() < np.exp(log_accept)):\n",
    "                self.K_current = new_K\n",
    "                self.zeta_current = new_zeta\n",
    "                (self.context, self.integrator, self.system) = self.make_harmonic_context(self.K_current, initial_positions, initial_velocities)\n",
    "                self.state = new_state\n",
    "        return self.state\n",
    "                \n",
    "    def mixture_sample(self, niterations = 100, save_freq = 10, nsteps=100):\n",
    "        \"\"\"\n",
    "        Cycle between label sampling and configuration sampling, where configurations are sampled with openmm.\n",
    "        \n",
    "        Parameters\n",
    "        ----------\n",
    "        niterations: int\n",
    "          the number of cycles of configuration sampling and state sampling\n",
    "        save_freq: int\n",
    "          the frequency with which the state will be recorded. A device to thin the data\n",
    "        nsteps: int\n",
    "          the number of moleculear dynamics moves per iteration\n",
    "        \"\"\" \n",
    "        for iteration in range(niterations):\n",
    "            # Configuration sampling\n",
    "            self.integrator.step(nsteps)\n",
    "            state = self.attempt_swap()\n",
    "            if iteration % save_freq:\n",
    "                self.nmoves += 1\n",
    "                self.state_counter += state"
   ]
  },
  {
   "cell_type": "code",
   "execution_count": 6,
   "metadata": {
    "collapsed": false
   },
   "outputs": [],
   "source": [
    "swapper = BayesianHarmonicSwapper(sigma1 = 5.0 * unit.angstrom, sigma2 = 7.0 * unit.angstrom)\n",
    "swapper.mixture_sample(niterations=500)\n",
    "print 'fraction in state 1 = {0:f}'.format(1.0*swapper.state_counter / swapper.nmoves)"
   ]
  },
  {
   "cell_type": "code",
   "execution_count": 7,
   "metadata": {
    "collapsed": false
   },
   "outputs": [
    {
     "name": "stdout",
     "output_type": "stream",
     "text": [
      "fraction in state 1: 0.757777777778\n",
      "nsuccess = 682, nmoves = 900\n"
     ]
    }
   ],
   "source": [
    "print 'fraction in state 1 = {0:f}'.format(1.0*swapper.state_counter / swapper.nmoves)\n",
    "print 'nsuccess = {0}, nmoves = {1}'.format(swapper.state_counter,swapper.nmoves)"
   ]
  },
  {
   "cell_type": "markdown",
   "metadata": {},
   "source": [
    "## Preliminary example of the OpenMM harmonic oscillator\n",
    "\n",
    "The code developed here formed the basis of the `BayesianHarmonicSwapper` class in `harmonic_mixture_sampler.py`. The harmonic oscillator model used is based on https://github.com/choderalab/perses/blob/master/perses/tests/test_ncmc_integrator.py.\n",
    "\n",
    "In the last cell, it's shown that about 100 to 200 steps of Langevin dynamics are sufficient to produce effectively uncorrelated samples of radii."
   ]
  },
  {
   "cell_type": "code",
   "execution_count": 8,
   "metadata": {
    "collapsed": false
   },
   "outputs": [],
   "source": [
    "# Parameters for 3D harmonic oscillator\n",
    "mass = 39.948 * unit.amu # mass of particle (argon)\n",
    "sigma = 5.0 * unit.angstrom # standard deviation of harmonic oscillator\n",
    "collision_rate = 5.0/unit.picosecond # collision rate\n",
    "temperature = 300.0 * unit.kelvin # temperature\n",
    "platform_name = 'CPU'\n",
    "\n",
    "\n",
    "# Compute derived quantities.\n",
    "kT = kB * temperature # thermal energy\n",
    "beta = 1.0 / kT # inverse energy\n",
    "K = kT / sigma**2 # spring constant\n",
    "tau = 2 * np.pi * unit.sqrt(mass/K) # time constant\n",
    "timestep = tau / 20.0\n",
    "platform = openmm.Platform.getPlatformByName(platform_name)\n",
    "\n",
    "def make_harmonic_context(K, positions = None, velocities = None):\n",
    "    # Create the system and harmonic force\n",
    "    system = openmm.System()\n",
    "    system.addParticle(mass)\n",
    "    energy_expression = '(K/2.0) * (x^2 + y^2 + z^2);'\n",
    "    force = openmm.CustomExternalForce(energy_expression)\n",
    "    force.addGlobalParameter('K', K.in_unit_system(unit.md_unit_system))\n",
    "    force.addParticle(0, [])\n",
    "    system.addForce(force)\n",
    "\n",
    "    # Create the integrator and context\n",
    "    integrator = openmm.LangevinIntegrator(temperature, collision_rate, timestep)\n",
    "    platform = openmm.Platform.getPlatformByName(platform_name)\n",
    "    context = openmm.Context(system, integrator, platform)\n",
    "    \n",
    "    # Set the positions and velocities.\n",
    "    if positions is None:\n",
    "        positions = unit.Quantity(np.zeros([1, 3], np.float32), unit.angstroms)\n",
    "    context.setPositions(positions)\n",
    "    if velocities is None:\n",
    "        context.setVelocitiesToTemperature(temperature)\n",
    "    else:\n",
    "        context.setVelocities(velocities)\n",
    "    return context, integrator, system    \n",
    "    \n",
    "    \n",
    "    \n",
    "# Create a 3D harmonic oscillator with context parameter controlling force constant\n",
    "system = openmm.System()\n",
    "system.addParticle(mass)\n",
    "energy_expression = '(K/2.0) * (x^2 + y^2 + z^2);'\n",
    "force = openmm.CustomExternalForce(energy_expression)\n",
    "force.addGlobalParameter('K', K.in_unit_system(unit.md_unit_system))\n",
    "#force.addPerParticleParameter('K', K.in_unit_system(unit.md_unit_system))\n",
    "force.addParticle(0, [])\n",
    "system.addForce(force)\n",
    "\n",
    "# Create the integrator and context\n",
    "#integrator = GHMCIntegrator(temperature, collision_rate, timestep)\n",
    "integrator = openmm.LangevinIntegrator(temperature, collision_rate, timestep)\n",
    "platform = openmm.Platform.getPlatformByName(platform_name)\n",
    "context = openmm.Context(system, integrator, platform)\n",
    " # Set the positions at the origin.\n",
    "positions = unit.Quantity(np.zeros([1, 3], np.float32), unit.angstroms)\n",
    "context.setPositions(positions)\n",
    "context.setVelocitiesToTemperature(temperature)"
   ]
  },
  {
   "cell_type": "markdown",
   "metadata": {},
   "source": [
    "### What number of steps produces effectively uncorrlated samples?\n",
    "MD steps of 100 to 200 are sufficient to produce effectively uncorrelated samples of the harmonic oscillator radius."
   ]
  },
  {
   "cell_type": "code",
   "execution_count": 11,
   "metadata": {
    "collapsed": false
   },
   "outputs": [
    {
     "name": "stdout",
     "output_type": "stream",
     "text": [
      "Mean radius = 0.986238002777 Angstroms\n",
      "Variance =  0.198491\n",
      "Statisitcal inefficieny = 1.000000\n"
     ]
    },
    {
     "data": {
      "image/png": "[encoded data removed]",
      "text/plain": [
       "<matplotlib.figure.Figure at 0x1114a6750>"
      ]
     },
     "metadata": {},
     "output_type": "display_data"
    }
   ],
   "source": [
    "iterations = 100\n",
    "radii = np.zeros(iterations,dtype=np.float32)\n",
    "\n",
    "for i in range(iterations):\n",
    "    integrator.step(150)\n",
    "    pos = context.getState(getPositions=True).getPositions(asNumpy=True)\n",
    "    pos = strip_in_unit_system(pos)[0]\n",
    "    radii[i] = np.sqrt(np.sum(pos**2))\n",
    "\n",
    "print 'Mean radius = {0} Angstroms'.format(np.mean(radii))\n",
    "print 'Variance = ', np.var(radii)\n",
    "print 'Statisitcal inefficieny = {:f}'.format(ts.statisticalInefficiency(radii))\n",
    "\n",
    "plt.plot(radii)\n",
    "plt.xlabel('Iteration')\n",
    "plt.ylabel('Radius (Angs.)')\n",
    "plt.show()"
   ]
  },
  {
   "cell_type": "code",
   "execution_count": null,
   "metadata": {
    "collapsed": true
   },
   "outputs": [],
   "source": []
  }
 ],
 "metadata": {
  "kernelspec": {
   "display_name": "Python 2",
   "language": "python",
   "name": "python2"
  },
  "language_info": {
   "codemirror_mode": {
    "name": "ipython",
    "version": 2
   },
   "file_extension": ".py",
   "mimetype": "text/x-python",
   "name": "python",
   "nbconvert_exporter": "python",
   "pygments_lexer": "ipython2",
   "version": "2.7.11"
  }
 },
 "nbformat": 4,
 "nbformat_minor": 0
}
