{
 "cells": [
  {
   "cell_type": "markdown",
   "metadata": {},
   "source": [
    "# Online Bayesian free energies\n",
    "## For a two-state harmonic system\n",
    "Denoting the biasing potentials as $\\zeta$, the free energy difference in units of $kT$ as $f$, and the samples of the labels as $l$, the basic procedure is the following:\n",
    "\n",
    "For n = 0:\n",
    "* **(1)** _Sample $\\zeta$ from the posterior_: \n",
    "$$ p(\\,\\zeta_{n+1} \\,| \\,f_n, \\,l_n \\,) $$\n",
    "* **(2)** _Mixture sampling over configuration and labels_:\n",
    "$$ p(\\,l_{n+1},| \\,f, \\,\\zeta_{n+1}\\,) $$\n",
    "* **(3)** _Use `Emcee` to sample from the posterior of the free energy_:\n",
    "$$ p(\\,f_{n+1}\\, | \\,\\zeta_{n+1},\\,l_{n+1}) $$\n",
    "$$ n = n + 1$$"
   ]
  },
  {
   "cell_type": "code",
   "execution_count": 1,
   "metadata": {
    "collapsed": true
   },
   "outputs": [],
   "source": [
    "import numpy as np\n",
    "from scipy.stats import norm\n",
    "import matplotlib.pyplot as plt\n",
    "%matplotlib inline\n",
    "\n",
    "from simtk import unit\n",
    "from harmonic_mixture_sampler import HarmonicSwapper\n",
    "from free_energy_estimators import BayesianSampler"
   ]
  },
  {
   "cell_type": "markdown",
   "metadata": {},
   "source": [
    "Initialsing the two harmonic oscillators with different variances:"
   ]
  },
  {
   "cell_type": "code",
   "execution_count": 2,
   "metadata": {
    "collapsed": false
   },
   "outputs": [
    {
     "name": "stdout",
     "output_type": "stream",
     "text": [
      "True free energy difference = -8.987197\n"
     ]
    }
   ],
   "source": [
    "s = (5.0 , 100.0)\n",
    "sigma1 = s[0] * unit.angstrom\n",
    "sigma2 = s[1] * unit.angstrom\n",
    "true_f =  3*np.log(s[0]/s[1])\n",
    "print 'True free energy difference = {0:f}'.format( true_f )"
   ]
  },
  {
   "cell_type": "markdown",
   "metadata": {},
   "source": [
    "Stating the prior distribution of the free energy difference:"
   ]
  },
  {
   "cell_type": "code",
   "execution_count": 3,
   "metadata": {
    "collapsed": true
   },
   "outputs": [],
   "source": [
    "prior_model = 'normal'  # the type of distribution\n",
    "prior_loc = 0        # the center parameter\n",
    "prior_spread = 10        # the spread parameter, e.g. standard deviation"
   ]
  },
  {
   "cell_type": "markdown",
   "metadata": {},
   "source": [
    "Initialising the variables for the algorithm:"
   ]
  },
  {
   "cell_type": "code",
   "execution_count": 4,
   "metadata": {
    "collapsed": false
   },
   "outputs": [
    {
     "name": "stdout",
     "output_type": "stream",
     "text": [
      "The number of label samples per zeta value = 40.000000\n"
     ]
    }
   ],
   "source": [
    "n_zeta_resamples = 1    # the number of biasing potentials sampled per iteration\n",
    "zetas = []               # Where the biasing potentials will be stored\n",
    "n_moves = []            # the number of label samples taken\n",
    "n_success = []          # the number of samples in the second state\n",
    "median = []\n",
    "lowerq = []\n",
    "upperq = []\n",
    "\n",
    "n_mixture_attempts = 8000     # The number of labelled mixture samples of the harmonic oscillator\n",
    "mixture_save_freq = 200        # The frequency that the state lables will be save. Preferable a factor of n_mixture_attempts \n",
    "print 'The number of label samples per zeta value = {0:f}'.format(1.0 * n_mixture_attempts / mixture_save_freq)\n",
    "openmm = False                 # Whether to use openmm to sample the harmonic oscillator\n",
    "\n",
    "# The initial samples from the prior\n",
    "f_samples = np.random.normal(loc = prior_loc, scale = prior_spread, size = n_zeta_resamples)"
   ]
  },
  {
   "cell_type": "markdown",
   "metadata": {},
   "source": [
    "## The actual sampling"
   ]
  },
  {
   "cell_type": "code",
   "execution_count": 5,
   "metadata": {
    "collapsed": false
   },
   "outputs": [],
   "source": [
    "#print 'True free energy difference = {0:f}'.format( true_f )    \n",
    "for i in range(50):\n",
    "    # Step (1): Samples zetas:\n",
    "    new_zetas = []\n",
    "    for f in f_samples:\n",
    "        z = np.random.logistic(loc = f)\n",
    "        zetas.append(z)\n",
    "        new_zetas.append(z)\n",
    "\n",
    "    # Step (2): Mixture sampling over configurations and labels\n",
    "    for i in range(len(new_zetas)):\n",
    "        swapper = HarmonicSwapper(sigma1, sigma2, zeta = [0.0,new_zetas[i]])\n",
    "        swapper.mixture_sample(niterations = n_mixture_attempts, openmm = openmm, save_freq = mixture_save_freq )\n",
    "        n_success.append( 1.0*swapper.state_counter )\n",
    "\n",
    "    #Step (3): Bayesian estimation of free energies from binomial data\n",
    "    sampler = BayesianSampler(zetas = np.array(zetas), nsuccesses = np.array(n_success), nsamples = swapper.nmoves)\n",
    "    chain = sampler.sample_posterior()\n",
    "    flat_samples = chain[:, 50:, :].reshape((-1, 1))\n",
    "    # Generate new f samples to generate new zetas\n",
    "    f_samples  = np.random.choice(flat_samples[:,0], size = n_zeta_resamples)\n",
    "    \n",
    "    # Data saving:\n",
    "    #print 'posterior mean = {0:f} and standard deviation = {1:f}'.format(flat_samples.mean(),flat_samples.std())\n",
    "    median.append( np.percentile(flat_samples,50) )\n",
    "    lowerq.append( np.percentile(flat_samples,97.5) )\n",
    "    upperq.append( np.percentile(flat_samples,2.5) )"
   ]
  },
  {
   "cell_type": "markdown",
   "metadata": {},
   "source": [
    "## Ploting\n",
    "#### The free energy estimate and error at each iteration"
   ]
  },
  {
   "cell_type": "code",
   "execution_count": 6,
   "metadata": {
    "collapsed": false
   },
   "outputs": [
    {
     "data": {
      "image/png": "[encoded data removed]",
      "text/plain": [
       "<matplotlib.figure.Figure at 0x11112e290>"
      ]
     },
     "metadata": {},
     "output_type": "display_data"
    }
   ],
   "source": [
    "x = range(len(median))\n",
    "plt.clf()\n",
    "plt.plot(x,median,color='k')\n",
    "plt.axhline(y = true_f,color='orange',ls='--', lw=3)\n",
    "plt.fill_between(x,lowerq,upperq, facecolor='green',linewidth=0,alpha=0.3,interpolate=True)\n",
    "plt.xlabel('Step')\n",
    "plt.ylabel('Free energy (kT)')\n",
    "plt.show()"
   ]
  },
  {
   "cell_type": "markdown",
   "metadata": {},
   "source": [
    "It seems the bigger the difference in free energy, the worse the estimator and error estimate. This may be due to the fact that the mixture samples are no longer independent. It may be possible to have a diagnostic for this, for instance, low acceptance rates between swaps."
   ]
  },
  {
   "cell_type": "markdown",
   "metadata": {},
   "source": [
    "#### The proportion of samples in state 1 for each $\\zeta$\n",
    "The colour of the points go from green to yellow as the algorithim progesses."
   ]
  },
  {
   "cell_type": "code",
   "execution_count": 7,
   "metadata": {
    "collapsed": false,
    "scrolled": true
   },
   "outputs": [
    {
     "data": {
      "image/png": "[encoded data removed]",
      "text/plain": [
       "<matplotlib.figure.Figure at 0x110a40f50>"
      ]
     },
     "metadata": {},
     "output_type": "display_data"
    }
   ],
   "source": [
    "z_sorted = np.sort(zetas)\n",
    "true_fraction = np.sort( sampler.logistic(true_f) )\n",
    "predicted = np.sort( sampler.logistic(median[-1]) )\n",
    "predicted_lower = np.sort( sampler.logistic(lowerq[-1]) )\n",
    "predicted_upper = np.sort( sampler.logistic(upperq[-1]) )\n",
    "\n",
    "color_grad =  plt.cm.summer(np.linspace(0,1,len(zetas)))\n",
    "fraction = np.array(n_success) / float(swapper.nmoves)\n",
    "#color_fraction = float((i + 1)/len(zetas)) \n",
    "plt.scatter(zetas,fraction, color = color_grad, s = 50, edgecolors='k')\n",
    "plt.fill_between(z_sorted, predicted_lower, predicted_upper, facecolor='grey',linewidth=0,alpha=0.3,interpolate=True)\n",
    "plt.plot(z_sorted, predicted, color = 'k', lw = 2)\n",
    "plt.plot(z_sorted,true_fraction, color = 'orange', lw = 2, ls = '--')\n",
    "\n",
    "plt.legend(('Predicted','True','Samples'),loc = 4)\n",
    "plt.xlabel('Zeta')\n",
    "plt.ylabel('Proportion in state 2')\n",
    "plt.show()"
   ]
  },
  {
   "cell_type": "code",
   "execution_count": null,
   "metadata": {
    "collapsed": true
   },
   "outputs": [],
   "source": []
  }
 ],
 "metadata": {
  "kernelspec": {
   "display_name": "Python 2",
   "language": "python",
   "name": "python2"
  },
  "language_info": {
   "codemirror_mode": {
    "name": "ipython",
    "version": 2
   },
   "file_extension": ".py",
   "mimetype": "text/x-python",
   "name": "python",
   "nbconvert_exporter": "python",
   "pygments_lexer": "ipython2",
   "version": "2.7.11"
  }
 },
 "nbformat": 4,
 "nbformat_minor": 0
}
