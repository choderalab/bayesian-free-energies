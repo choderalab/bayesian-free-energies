{
 "cells": [
  {
   "cell_type": "markdown",
   "metadata": {},
   "source": [
    "Test of the mixture sampling Gibbs proceedure.\n",
    "* Pick n zetas from the posterior\n",
    "* generate bimonial samples\n",
    "* generate a free energy estimate\n",
    "* generate new n zetas"
   ]
  },
  {
   "cell_type": "code",
   "execution_count": 1,
   "metadata": {
    "collapsed": true
   },
   "outputs": [],
   "source": [
    "import numpy as np\n",
    "from scipy.stats import norm\n",
    "import matplotlib.pyplot as plt\n",
    "%matplotlib inline\n",
    "\n",
    "from simtk import unit\n",
    "from harmonic_mixture_sampler import HarmonicSwapper\n",
    "from free_energy_estimators import BayesianSampler"
   ]
  },
  {
   "cell_type": "markdown",
   "metadata": {},
   "source": [
    "Initialsing the two harmonic oscillators with different variances:"
   ]
  },
  {
   "cell_type": "code",
   "execution_count": 2,
   "metadata": {
    "collapsed": false
   },
   "outputs": [
    {
     "name": "stdout",
     "output_type": "stream",
     "text": [
      "True free energy difference = -11.066638\n"
     ]
    }
   ],
   "source": [
    "s = (5.0 , 200.0)\n",
    "sigma1 = s[0] * unit.angstrom\n",
    "sigma2 = s[1] * unit.angstrom\n",
    "true_f =  3*np.log(s[0]/s[1])\n",
    "print 'True free energy difference = {0:f}'.format( true_f )"
   ]
  },
  {
   "cell_type": "markdown",
   "metadata": {},
   "source": [
    "Stating the prior distribution of the free energy difference:"
   ]
  },
  {
   "cell_type": "code",
   "execution_count": 3,
   "metadata": {
    "collapsed": true
   },
   "outputs": [],
   "source": [
    "prior_model = 'normal'  # the type of distribution\n",
    "prior_loc = 0        # the center parameter\n",
    "prior_spread = 20        # the spread parameter, e.g. standard deviation"
   ]
  },
  {
   "cell_type": "markdown",
   "metadata": {},
   "source": [
    "Initialising the variables for the algorithm:"
   ]
  },
  {
   "cell_type": "code",
   "execution_count": null,
   "metadata": {
    "collapsed": false
   },
   "outputs": [
    {
     "name": "stdout",
     "output_type": "stream",
     "text": [
      "The number of label samples per iteration = 20.000000\n"
     ]
    }
   ],
   "source": [
    "n_zeta_resamples = 1    # the number of biasing potentials sampled per iteration\n",
    "zetas = []               # Where the biasing potentials will be stored\n",
    "n_moves = []            # the number of label samples taken\n",
    "n_success = []          # the number of samples in the second state\n",
    "\n",
    "n_mixture_attempts = 4000     # The number of labelled mixture samples of the harmonic oscillator\n",
    "mixture_save_freq = 200        # The frequency that the state lables will be save. Preferable a factor of n_mixture_attempts \n",
    "print 'The number of label samples per iteration = {0:f}'.format(1.0 * n_mixture_attempts / mixture_save_freq)\n",
    "openmm = False                 # Whether to use openmm to sample the harmonic oscillator\n",
    "\n",
    "\n",
    "#median = [prior_loc]\n",
    "#lowerq = [norm.cdf(0.25,loc = prior_loc, scale = prior_spread)]\n",
    "#upperq = []"
   ]
  },
  {
   "cell_type": "code",
   "execution_count": null,
   "metadata": {
    "collapsed": false
   },
   "outputs": [
    {
     "name": "stdout",
     "output_type": "stream",
     "text": [
      "True free energy difference = -11.066638\n"
     ]
    }
   ],
   "source": [
    "median = []\n",
    "lowerq = []\n",
    "upperq = []\n",
    "\n",
    "print 'True free energy difference = {0:f}'.format( true_f )    \n",
    "f_samples = np.random.normal(loc = prior_loc, scale = prior_spread, size = n_zeta_resamples)\n",
    "for i in range(50):\n",
    "    # Samples zetas:\n",
    "    new_zetas = []\n",
    "    for f in f_samples:\n",
    "        z = np.random.logistic(loc = f)\n",
    "        zetas.append(z)\n",
    "        new_zetas.append(z)\n",
    "\n",
    "    # Mixture sampling:\n",
    "    for i in range(len(new_zetas)):\n",
    "        swapper = HarmonicSwapper(sigma1, sigma2, zeta = [0.0,new_zetas[i]])\n",
    "        swapper.mixture_sample(niterations = n_mixture_attempts, openmm = openmm, save_freq = mixture_save_freq )\n",
    "        n_success.append( 1.0*swapper.state_counter )\n",
    "        \n",
    "    # Bayesian estimation from binomial data\n",
    "    sampler = BayesianSampler(zetas = np.array(zetas), nsuccesses = np.array(n_success), nsamples = swapper.nmoves)\n",
    "    chain = sampler.sample_posterior()\n",
    "    flat_samples = chain[:, 50:, :].reshape((-1, 1))\n",
    "    \n",
    "    # Print the current estimate\n",
    "    #print 'posterior mean = {0:f} and standard deviation = {1:f}'.format(flat_samples.mean(),flat_samples.std())\n",
    "    \n",
    "    # Save data\n",
    "    median.append( np.percentile(flat_samples,50) )\n",
    "    lowerq.append( np.percentile(flat_samples,97.5) )\n",
    "    upperq.append( np.percentile(flat_samples,2.5) )\n",
    "    \n",
    "    # Generate new f samples to generate new zetas\n",
    "    f_samples  = np.random.choice(flat_samples[:,0], size = n_zeta_resamples)"
   ]
  },
  {
   "cell_type": "code",
   "execution_count": null,
   "metadata": {
    "collapsed": false
   },
   "outputs": [],
   "source": [
    "x = range(len(median))\n",
    "plt.plot(x,median,color='k')\n",
    "plt.axhline(y = true_f,color='red',ls='--')\n",
    "plt.fill_between(x,lowerq,upperq, facecolor='grey',linewidth=0,alpha=0.3,interpolate=True)\n",
    "plt.xlabel('Step')\n",
    "plt.ylabel('Free energy')\n",
    "plt.show()"
   ]
  },
  {
   "cell_type": "code",
   "execution_count": null,
   "metadata": {
    "collapsed": true
   },
   "outputs": [],
   "source": []
  }
 ],
 "metadata": {
  "kernelspec": {
   "display_name": "Python 2",
   "language": "python",
   "name": "python2"
  },
  "language_info": {
   "codemirror_mode": {
    "name": "ipython",
    "version": 2
   },
   "file_extension": ".py",
   "mimetype": "text/x-python",
   "name": "python",
   "nbconvert_exporter": "python",
   "pygments_lexer": "ipython2",
   "version": "2.7.11"
  }
 },
 "nbformat": 4,
 "nbformat_minor": 0
}
