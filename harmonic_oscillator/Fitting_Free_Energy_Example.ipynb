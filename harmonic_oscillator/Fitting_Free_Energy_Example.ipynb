{
 "cells": [
  {
   "cell_type": "code",
   "execution_count": 1,
   "metadata": {
    "collapsed": false
   },
   "outputs": [],
   "source": [
    "import numpy as np\n",
    "import matplotlib.pyplot as plt\n",
    "%matplotlib inline\n",
    "\n",
    "from simtk import openmm, unit\n",
    "from harmonic_mixture_sampler import HarmonicSwapper"
   ]
  },
  {
   "cell_type": "markdown",
   "metadata": {},
   "source": [
    "### Sampling configurations with openmm"
   ]
  },
  {
   "cell_type": "code",
   "execution_count": 2,
   "metadata": {
    "collapsed": false
   },
   "outputs": [],
   "source": [
    "#swapper = BayesianHarmonicSwapper(sigma1 = 5.0 * unit.angstrom, sigma2 = 7.0 * unit.angstrom, zeta = [0.0,0.0])\n",
    "#swapper.mixture_sample(niterations = 1000, nsteps=100)\n",
    "#print 'fraction in state 1 = {0:f}'.format(1.0*swapper.state_counter / swapper.nmoves)\n",
    "#radii = np.array(swapper.radii)\n",
    "#print 'mean {0:f}, variance = {1:f}'.format(np.mean(radii), np.var(radii))"
   ]
  },
  {
   "cell_type": "markdown",
   "metadata": {},
   "source": [
    "### Sampling configurations with pseudo random numbers"
   ]
  },
  {
   "cell_type": "code",
   "execution_count": 3,
   "metadata": {
    "collapsed": false
   },
   "outputs": [
    {
     "name": "stdout",
     "output_type": "stream",
     "text": [
      "fraction in state 1 = 0.850000\n",
      "mean 1.120740, variance = 0.157260\n"
     ]
    }
   ],
   "source": [
    "swapper = HarmonicSwapper(sigma1 = 5.0 * unit.angstrom, sigma2 = 7.0 * unit.angstrom, zeta = [0.0,0.0])\n",
    "swapper.mixture_sample(niterations = 1000, openmm = False)\n",
    "radii = np.array(swapper.radii)\n",
    "print 'fraction in state 1 = {0:f}'.format(1.0*swapper.state_counter / swapper.nmoves)\n",
    "print 'mean {0:f}, variance = {1:f}'.format(np.mean(radii), np.var(radii))"
   ]
  },
  {
   "cell_type": "markdown",
   "metadata": {},
   "source": [
    "### Titration example\n",
    "\n",
    "Estimating free energy with least squares fitting and maximum likelihood."
   ]
  },
  {
   "cell_type": "code",
   "execution_count": 4,
   "metadata": {
    "collapsed": false
   },
   "outputs": [],
   "source": [
    "from free_energy_estimators import MaximumLikelihood"
   ]
  },
  {
   "cell_type": "code",
   "execution_count": 11,
   "metadata": {
    "collapsed": false
   },
   "outputs": [],
   "source": [
    "s = (5.0 , 10.0)\n",
    "sigma1 = s[0] * unit.angstrom\n",
    "sigma2 = s[1] * unit.angstrom\n",
    "\n",
    "nsamples = 10000\n",
    "zetas = range(-5,5)\n",
    "n_success = np.zeros(len(zetas))\n",
    "fraction = np.zeros(len(zetas))\n",
    "for i in range(len(zetas)):\n",
    "    swapper = HarmonicSwapper(sigma1, sigma2, zeta = [0.0,zetas[i]])\n",
    "    swapper.mixture_sample(niterations = nsamples, openmm = False, save_freq = 200)\n",
    "    n_success[i] = 1.0*swapper.state_counter \n",
    "    fraction[i] = 1.0*swapper.state_counter / swapper.nmoves"
   ]
  },
  {
   "cell_type": "code",
   "execution_count": 14,
   "metadata": {
    "collapsed": false
   },
   "outputs": [
    {
     "name": "stdout",
     "output_type": "stream",
     "text": [
      "Least squares free energy difference = -2.06927018674\n",
      "Maximum likelihood free energy difference = -2.06927018674\n",
      "Actual free energy difference = -2.07944154168\n"
     ]
    }
   ],
   "source": [
    "fitter = MaximumLikelihood(zetas = zetas, nsuccesses = n_success, nsamples = swapper.nmoves)\n",
    "f_fit = fitter.max_like()\n",
    "predicted = fitter.logistic(f_fit)\n",
    "print('Least squares free energy difference = {0}'.format(f_fit))\n",
    "print('Maximum likelihood free energy difference = {0}'.format(fitter.max_like()))\n",
    "print('Actual free energy difference = {0}'.format( 3*np.log(s[0]/s[1]) ))"
   ]
  },
  {
   "cell_type": "code",
   "execution_count": 15,
   "metadata": {
    "collapsed": false
   },
   "outputs": [
    {
     "data": {
      "image/png": "[encoded data removed]",
      "text/plain": [
       "<matplotlib.figure.Figure at 0x1131cc390>"
      ]
     },
     "metadata": {},
     "output_type": "display_data"
    }
   ],
   "source": [
    "plt.scatter(zetas,fraction)\n",
    "plt.plot(zetas,predicted, color = 'red', ls = '--')\n",
    "plt.legend(('Predicted','Samples'),loc = 0)\n",
    "plt.xlabel('Zeta')\n",
    "plt.ylabel('Proportion in state 2')\n",
    "plt.show()"
   ]
  },
  {
   "cell_type": "code",
   "execution_count": null,
   "metadata": {
    "collapsed": true
   },
   "outputs": [],
   "source": []
  },
  {
   "cell_type": "code",
   "execution_count": null,
   "metadata": {
    "collapsed": true
   },
   "outputs": [],
   "source": []
  }
 ],
 "metadata": {
  "kernelspec": {
   "display_name": "Python 2",
   "language": "python",
   "name": "python2"
  },
  "language_info": {
   "codemirror_mode": {
    "name": "ipython",
    "version": 2
   },
   "file_extension": ".py",
   "mimetype": "text/x-python",
   "name": "python",
   "nbconvert_exporter": "python",
   "pygments_lexer": "ipython2",
   "version": "2.7.11"
  }
 },
 "nbformat": 4,
 "nbformat_minor": 0
}
