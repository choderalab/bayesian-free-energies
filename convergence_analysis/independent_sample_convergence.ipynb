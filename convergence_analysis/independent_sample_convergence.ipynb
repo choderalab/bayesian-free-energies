{
 "cells": [
  {
   "cell_type": "code",
   "execution_count": 1,
   "metadata": {
    "collapsed": true
   },
   "outputs": [],
   "source": [
    "import numpy as np\n",
    "import matplotlib.pyplot as plt\n",
    "%matplotlib inline\n",
    "from time import time"
   ]
  },
  {
   "cell_type": "markdown",
   "metadata": {},
   "source": [
    "# Binary SAMS update scheme example\n",
    "Drawing independend samples from `numpy`'s multinomial sampler. For simplicity, the target weights will be uniform."
   ]
  },
  {
   "cell_type": "markdown",
   "metadata": {},
   "source": [
    "## Asymptotic update only\n",
    "At iteration time $t$, the bias and estimate $\\zeta$ is updated using\n",
    "\n",
    "$$\\zeta^{(t)} =  \\zeta^{(t-\\frac{1}{2})} - \\zeta_{1}^{(t-\\frac{1}{2})} $$\n",
    "\n",
    "with\n",
    "\n",
    "$$\\zeta^{(t-\\frac{1}{2})} = \\zeta^{(t-1)} + \\frac{1}{t}[\\delta_1(L_t),..., \\delta_m(L_t)] $$"
   ]
  },
  {
   "cell_type": "code",
   "execution_count": 35,
   "metadata": {
    "collapsed": false
   },
   "outputs": [
    {
     "name": "stdout",
     "output_type": "stream",
     "text": [
      "Target: [  0.          41.6965259  -80.24510574 -58.99812193  60.24325198]\n"
     ]
    }
   ],
   "source": [
    "# Generating the target free energy from the prior\n",
    "f_true = -np.random.uniform(-200,200,size=4)\n",
    "p = np.hstack((1, np.exp(-f_true)))\n",
    "p = p / np.sum(p)\n",
    "print('Target:', np.hstack((0,f_true)))\n",
    "\n",
    "# Setting the initial guess to zero for all states\n",
    "zetas = [np.repeat(0,5)]\n",
    "\n",
    "ncycles = 100000\n",
    "for i in range(1, ncycles+1):\n",
    "    # Generate one state from multinomial distribution that's specified by the true free energies\n",
    "    q = p*np.exp(zetas[-1])\n",
    "    q = q / np.sum(q)\n",
    "    state = np.random.multinomial(1,q)\n",
    "    # Apply SAMS binary update scheme\n",
    "    zeta_half = zetas[-1] + state/float(i)\n",
    "    zetas.append(zeta_half - zeta_half[0])\n",
    "estimate = np.array(zetas)"
   ]
  },
  {
   "cell_type": "markdown",
   "metadata": {},
   "source": [
    "Viewing the estimate after 100000 steps:"
   ]
  },
  {
   "cell_type": "code",
   "execution_count": 36,
   "metadata": {
    "collapsed": false
   },
   "outputs": [
    {
     "data": {
      "text/plain": [
       "array([  0.        ,   0.        ,  12.09014613,   0.        ,   0.        ])"
      ]
     },
     "execution_count": 36,
     "metadata": {},
     "output_type": "execute_result"
    }
   ],
   "source": [
    "estimate[-1]"
   ]
  },
  {
   "cell_type": "markdown",
   "metadata": {},
   "source": [
    "Unsurpisingly, this estimate is far from converged. Extending the adaptation process much longer won't help as the adaptations decrease too quickly."
   ]
  },
  {
   "cell_type": "markdown",
   "metadata": {},
   "source": [
    "## Two stage procedure\n",
    "At iteration time $t$, the bias and estimate $\\zeta$ is updated using\n",
    "\n",
    "$$\\zeta^{(t)} =  \\zeta^{(t-\\frac{1}{2})} - \\zeta_{1}^{(t-\\frac{1}{2})} $$\n",
    "\n",
    "with\n",
    "\n",
    "$$\\zeta^{(t-\\frac{1}{2})} = \\zeta^{(t-1)} + \\frac{1}{k}[\\delta_1(L_t),..., \\delta_m(L_t)] $$\n",
    "\n",
    "with \n",
    "\n",
    "$$ k = \\text{min}(\\pi_j,t^{(-\\beta)}) \\,\\, \\text{if} \\,\\, t \\leq t_0$$\n",
    "$$ k = \\text{min}(\\pi_j,(t - t _0 + t^{\\beta})^{-1}) \\,\\, \\text{if} \\,\\, t \\leq t_0$$\n",
    "\n",
    "The two-stage procedure is specific for each state. The value $t_0$ is set to the point when the $i$th state is within 20%-50% of the uniform weight."
   ]
  },
  {
   "cell_type": "code",
   "execution_count": null,
   "metadata": {
    "collapsed": true
   },
   "outputs": [],
   "source": [
    "beta = 0.6"
   ]
  },
  {
   "cell_type": "code",
   "execution_count": null,
   "metadata": {
    "collapsed": true
   },
   "outputs": [],
   "source": [
    "# Generating the target free energy from the prior\n",
    "f_true = -np.random.uniform(-200,200,size=4)\n",
    "p = np.hstack((1, np.exp(-f_true)))\n",
    "p = p / np.sum(p)\n",
    "print('Target:', np.hstack((0,f_true)))\n",
    "\n",
    "# Setting the initial guess to zero for all states\n",
    "zetas = [np.repeat(0,5)]\n",
    "counts = np.repeat(0,5)\n",
    "\n",
    "\n",
    "ncycles = 100000\n",
    "for i in range(1, ncycles+1):\n",
    "    # Generate one state from multinomial distribution that's specified by the true free energies\n",
    "    q = p*np.exp(zetas[-1])\n",
    "    q = q / np.sum(q)\n",
    "    state = np.random.multinomial(1,q)\n",
    "    counts += state\n",
    "    # Apply SAMS binary update scheme\n",
    "    if counts \n",
    "    zeta_half = zetas[-1] + state/float(i)\n",
    "    zetas.append(zeta_half - zeta_half[0])\n",
    "estimate = np.array(zetas)"
   ]
  },
  {
   "cell_type": "code",
   "execution_count": null,
   "metadata": {
    "collapsed": true
   },
   "outputs": [],
   "source": []
  }
 ],
 "metadata": {
  "kernelspec": {
   "display_name": "Python 3",
   "language": "python",
   "name": "python3"
  },
  "language_info": {
   "codemirror_mode": {
    "name": "ipython",
    "version": 3
   },
   "file_extension": ".py",
   "mimetype": "text/x-python",
   "name": "python",
   "nbconvert_exporter": "python",
   "pygments_lexer": "ipython3",
   "version": "3.5.2"
  }
 },
 "nbformat": 4,
 "nbformat_minor": 0
}
