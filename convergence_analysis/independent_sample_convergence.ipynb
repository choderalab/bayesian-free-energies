{
 "cells": [
  {
   "cell_type": "code",
   "execution_count": 1,
   "metadata": {
    "collapsed": false
   },
   "outputs": [],
   "source": [
    "import numpy as np\n",
    "import matplotlib.pyplot as plt\n",
    "%matplotlib inline\n",
    "from time import time\n",
    "from bams.adaptive_tools import *"
   ]
  },
  {
   "cell_type": "markdown",
   "metadata": {},
   "source": [
    "# Binary SAMS update scheme example\n",
    "Drawing independend samples from `numpy`'s multinomial sampler. For simplicity, the target weights will be uniform."
   ]
  },
  {
   "cell_type": "markdown",
   "metadata": {},
   "source": [
    "## Asymptotic update only\n",
    "At iteration time $t$, the bias and estimate $\\zeta$ is updated using\n",
    "\n",
    "$$\\zeta^{(t)} =  \\zeta^{(t-\\frac{1}{2})} - \\zeta_{1}^{(t-\\frac{1}{2})} $$\n",
    "\n",
    "with\n",
    "\n",
    "$$\\zeta^{(t-\\frac{1}{2})} = \\zeta^{(t-1)} + \\frac{1}{t}[\\delta_1(L_t),..., \\delta_m(L_t)] $$"
   ]
  },
  {
   "cell_type": "code",
   "execution_count": 2,
   "metadata": {
    "collapsed": false
   },
   "outputs": [
    {
     "name": "stdout",
     "output_type": "stream",
     "text": [
      "('Target:', array([   0.        ,  179.91262873,   85.5393755 ,   87.17191359,\n",
      "       -132.83336392]))\n",
      "('Estimate', array([ -0.        ,  -0.        ,  -0.        ,  -0.        , -60.45073065]))\n"
     ]
    }
   ],
   "source": [
    "# The number of states and target sampling weight\n",
    "num_states = 5\n",
    "target_weight = np.repeat(1.0/num_states, num_states)\n",
    "\n",
    "# Generating the target free energy from the prior\n",
    "f_true = -np.random.uniform(-200,200,size=4)\n",
    "p = np.hstack((1, np.exp(-f_true)))\n",
    "p = p / np.sum(p)\n",
    "print('Target:', np.hstack((0,f_true)))\n",
    "\n",
    "# Setting the initial guess to zero for all states\n",
    "zetas = [np.repeat(0,5)]\n",
    "\n",
    "ncycles = 100000\n",
    "for t in range(1, ncycles+1):\n",
    "    # Generate one state from multinomial distribution that's specified by the true free energies\n",
    "    q = p*np.exp(-zetas[-1])\n",
    "    q = q / np.sum(q)\n",
    "    state = np.random.multinomial(1,q)\n",
    "    # Apply SAMS binary update scheme\n",
    "    zeta_half = zetas[-1] + state/target_weight/float(t)\n",
    "    zetas.append(zeta_half - zeta_half[0])\n",
    "estimate = -np.array(zetas)\n",
    "print('Estimate', estimate[-1])"
   ]
  },
  {
   "cell_type": "markdown",
   "metadata": {},
   "source": [
    "Unsurpisingly, this estimate is far from converged. Extending the adaptation process much longer won't help as the adaptations decrease too quickly."
   ]
  },
  {
   "cell_type": "markdown",
   "metadata": {},
   "source": [
    "## Two stage procedure\n",
    "At iteration time $t$, the bias and estimate $\\zeta$ is updated using\n",
    "\n",
    "$$\\zeta^{(t)} =  \\zeta^{(t-\\frac{1}{2})} - \\zeta_{1}^{(t-\\frac{1}{2})} $$\n",
    "\n",
    "with\n",
    "\n",
    "$$\\zeta^{(t-\\frac{1}{2})} = \\zeta^{(t-1)} + \\frac{1}{k}[\\delta_1(L_t),..., \\delta_m(L_t)] $$\n",
    "\n",
    "with \n",
    "\n",
    "$$ k = \\text{min}(\\pi_j,t^{(-\\beta)}) \\,\\, \\text{if} \\,\\, t \\leq t_0$$\n",
    "$$ k = \\text{min}(\\pi_j,(t - t _0 + t^{\\beta})^{-1}) \\,\\, \\text{if} \\,\\, t \\leq t_0$$\n",
    "\n",
    "The two-stage procedure is specific for each state. The value $t_0$ is set to the point when the $i$th state is within 20%-50% of the uniform weight."
   ]
  },
  {
   "cell_type": "code",
   "execution_count": 46,
   "metadata": {
    "collapsed": false
   },
   "outputs": [
    {
     "name": "stdout",
     "output_type": "stream",
     "text": [
      "('Target:', array([   0.        ,  198.92814936,    5.38623927, -137.92657028,\n",
      "         32.98454696]))\n",
      "('Estimate', array([  -0.        ,  144.3051539 ,    5.49593578, -138.0991433 ,\n",
      "         32.71308318]))\n"
     ]
    }
   ],
   "source": [
    "# The number of states and target sampling weight\n",
    "beta = 0.501\n",
    "num_states = 5\n",
    "target_weight = np.repeat(1.0/num_states, num_states)\n",
    "cutoff = 0.3\n",
    "t0 = None\n",
    "\n",
    "# Generating the target free energy from the prior\n",
    "f_true = -np.random.uniform(-200,200, size=num_states - 1)\n",
    "p = np.hstack((1, np.exp(-f_true)))\n",
    "p = p / np.sum(p)\n",
    "print('Target:', np.hstack((0,f_true)))\n",
    "\n",
    "# Setting the initial guess to zero for all states\n",
    "zetas = [np.repeat(0,5)]\n",
    "counts = np.repeat(0,5)\n",
    "\n",
    "ncycles = 5000\n",
    "for t in range(1, ncycles+1):\n",
    "    # Generate one state from multinomial distribution that's specified by the true free energies\n",
    "    q = p*np.exp(-zetas[-1])\n",
    "    q = q / np.sum(q)\n",
    "    state = np.random.multinomial(1,q)\n",
    "    counts += state\n",
    "    # Calculate whether to terminate burn-in\n",
    "    state_ind = np.where(state != 0)[0][0]\n",
    "    fraction = 1.0*counts/np.sum(counts)\n",
    "    #dist = np.mean(np.absolute(fraction[state_ind] - target_weight[state_ind])/target_weight[state_ind])\n",
    "    dist = np.mean(np.absolute(fraction - target_weight)/target_weight)\n",
    "    if dist <= cutoff:\n",
    "        if t0 is None:\n",
    "            t0 = t\n",
    "        else:    \n",
    "            k = np.min((target_weight[state_ind], (t - t0 + t0**(-beta))**(-1)))\n",
    "    else:\n",
    "        k = np.min((target_weight[state_ind], t**(-beta)))\n",
    "    # Apply SAMS binary update scheme\n",
    "    zeta_half = zetas[-1] + float(k) * (state / target_weight)\n",
    "    zetas.append(zeta_half - zeta_half[0])\n",
    "estimate = -np.array(zetas)\n",
    "print('Estimate', estimate[-1])"
   ]
  },
  {
   "cell_type": "code",
   "execution_count": 47,
   "metadata": {
    "collapsed": false
   },
   "outputs": [
    {
     "data": {
      "image/png": "[encoded data removed]",
      "text/plain": [
       "<matplotlib.figure.Figure at 0x1050b8410>"
      ]
     },
     "metadata": {},
     "output_type": "display_data"
    }
   ],
   "source": [
    "x = np.arange(estimate.shape[0])\n",
    "for i in range(1,5):\n",
    "    plt.plot(x, estimate[:,i], color=tableau4[i-1], lw=2)\n",
    "    plt.axhline(y = f_true[i-1], color=tableau4[i-1], ls='--', lw=1)\n",
    "plt.ylim((-215,215))\n",
    "#plt.ylim((-135,-120))\n",
    "plt.title('Relative free energy between 5 states', fontsize=14)\n",
    "plt.xlabel('Iteration', fontsize=12)\n",
    "plt.ylabel('Free energy (unitless)', fontsize=12)\n",
    "plt.show()"
   ]
  },
  {
   "cell_type": "markdown",
   "metadata": {},
   "source": [
    "The two stage procedure converges much faster than before, but is not as fast the Bayesian update scheme."
   ]
  },
  {
   "cell_type": "code",
   "execution_count": null,
   "metadata": {
    "collapsed": true
   },
   "outputs": [],
   "source": []
  }
 ],
 "metadata": {
  "kernelspec": {
   "display_name": "Python 2",
   "language": "python",
   "name": "python2"
  },
  "language_info": {
   "codemirror_mode": {
    "name": "ipython",
    "version": 2
   },
   "file_extension": ".py",
   "mimetype": "text/x-python",
   "name": "python",
   "nbconvert_exporter": "python",
   "pygments_lexer": "ipython2",
   "version": "2.7.12"
  }
 },
 "nbformat": 4,
 "nbformat_minor": 0
}
