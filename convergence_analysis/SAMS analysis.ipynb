{
 "cells": [
  {
   "cell_type": "code",
   "execution_count": 1,
   "metadata": {
    "collapsed": true
   },
   "outputs": [],
   "source": [
    "import numpy as np\n",
    "import matplotlib.pyplot as plt\n",
    "%matplotlib inline\n",
    "\n",
    "from bams.testsystems import *\n",
    "from bams.sams_adapter import SAMSAdaptor"
   ]
  },
  {
   "cell_type": "markdown",
   "metadata": {},
   "source": [
    "## Rao-Blackwellized vs binary update for Gaussian mixtures"
   ]
  },
  {
   "cell_type": "code",
   "execution_count": null,
   "metadata": {
    "collapsed": true
   },
   "outputs": [],
   "source": [
    "# Parameters of the system and free energies\n",
    "f_range = 3.0\n",
    "nstates = 10\n",
    "\n",
    "# Parameters of sams\n",
    "niterations = 1000\n",
    "repeats = 200\n",
    "beta = 0.6\n",
    "\n",
    "# Parameters of the sampler\n",
    "nmoves = 1\n",
    "save_freq = 1"
   ]
  },
  {
   "cell_type": "markdown",
   "metadata": {},
   "source": [
    "### Rao-Blackwellized update"
   ]
  },
  {
   "cell_type": "code",
   "execution_count": null,
   "metadata": {
    "collapsed": false
   },
   "outputs": [],
   "source": [
    "rb_aggregate_msd = np.zeros((repeats,niterations))\n",
    "for r in range(repeats):\n",
    "    f_true = np.random.uniform(low=-f_range/2.0, high=f_range/2.0, size=nstates )\n",
    "    f_true -= f_true[0]\n",
    "    sigmas = gen_sigmas(sigma1=1, f=f_true)\n",
    "\n",
    "    generator = GaussianMixtureSampler(sigmas=sigmas)\n",
    "    adaptor = SAMSAdaptor(nstates=nstates, beta=beta)\n",
    "    \n",
    "    for i in range(niterations):\n",
    "        generator.sample(nmoves, save_freq)\n",
    "        state = generator.state\n",
    "        noisy = generator.weights\n",
    "        z = -adaptor.update(state=state, noisy_observation=noisy, histogram=generator.state_counter)\n",
    "        generator.zetas = z\n",
    "        rb_aggregate_msd[r,i] = np.mean((f_true[1:] - z[1:])**2)"
   ]
  },
  {
   "cell_type": "markdown",
   "metadata": {},
   "source": [
    "### Binary update"
   ]
  },
  {
   "cell_type": "code",
   "execution_count": null,
   "metadata": {
    "collapsed": false
   },
   "outputs": [],
   "source": [
    "binary_aggregate_msd = np.zeros((repeats,niterations))\n",
    "for r in range(repeats):\n",
    "    f_true = np.random.uniform(low=-f_range/2.0, high=f_range/2.0, size=nstates )\n",
    "    f_true = np.random.uniform(low=0, high=-f_range, size=nstates )\n",
    "    f_true -= f_true[0]\n",
    "    sigmas = gen_sigmas(sigma1=1, f=f_true)\n",
    "\n",
    "    generator = GaussianMixtureSampler(sigmas=sigmas)\n",
    "    adaptor = SAMSAdaptor(nstates=nstates, beta=beta)\n",
    "    \n",
    "    for i in range(niterations):\n",
    "        noisy = generator.sample(nmoves, save_freq)\n",
    "        state = generator.state\n",
    "        z = -adaptor.update(state=state, noisy_observation=noisy, histogram=generator.state_counter)\n",
    "        generator.zetas = z\n",
    "        binary_aggregate_msd[r,i] = np.mean((f_true[1:] - z[1:])**2)"
   ]
  },
  {
   "cell_type": "markdown",
   "metadata": {},
   "source": [
    "#### Plotting"
   ]
  },
  {
   "cell_type": "code",
   "execution_count": null,
   "metadata": {
    "collapsed": false
   },
   "outputs": [],
   "source": [
    "# Rao-Blackwellized\n",
    "alpha = 0.3\n",
    "\n",
    "mu = np.percentile(rb_aggregate_msd, 50, axis=0)\n",
    "upper = np.percentile(rb_aggregate_msd, 97.5, axis=0)\n",
    "lower = np.percentile(rb_aggregate_msd, 2.5, axis=0)\n",
    "t = np.arange(1, len(mu) + 1)\n",
    "plt.semilogy(t, mu, lw=2, label='RB')\n",
    "plt.fill_between(t, lower, upper, alpha=alpha)\n",
    "# Binary\n",
    "#mu = binary_aggregate_msd.mean(axis=0)\n",
    "mu = np.percentile(binary_aggregate_msd,50, axis=0)\n",
    "upper = np.percentile(binary_aggregate_msd, 97.5, axis=0)\n",
    "lower = np.percentile(binary_aggregate_msd, 2.5, axis=0)\n",
    "t = np.arange(1, len(mu) + 1)\n",
    "plt.fill_between(t, lower, upper, alpha=alpha)\n",
    "plt.semilogy(mu, lw=2, label='binary')\n",
    "\n",
    "plt.title('Mean-squared error of relative free energies', fontsize=14)\n",
    "plt.ylabel('Mean squared error', fontsize=12)\n",
    "plt.xlabel('Iteration', fontsize=12)\n",
    "plt.legend(fontsize=13)\n",
    "plt.show()\n"
   ]
  },
  {
   "cell_type": "code",
   "execution_count": null,
   "metadata": {
    "collapsed": true
   },
   "outputs": [],
   "source": []
  }
 ],
 "metadata": {
  "kernelspec": {
   "display_name": "Python 3",
   "language": "python",
   "name": "python3"
  },
  "language_info": {
   "codemirror_mode": {
    "name": "ipython",
    "version": 3
   },
   "file_extension": ".py",
   "mimetype": "text/x-python",
   "name": "python",
   "nbconvert_exporter": "python",
   "pygments_lexer": "ipython3",
   "version": "3.5.2"
  }
 },
 "nbformat": 4,
 "nbformat_minor": 2
}
