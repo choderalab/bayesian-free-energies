{
 "cells": [
  {
   "cell_type": "code",
   "execution_count": 1,
   "metadata": {
    "collapsed": true
   },
   "outputs": [],
   "source": [
    "import numpy as np\n",
    "import matplotlib.pyplot as plt\n",
    "%matplotlib inline\n",
    "\n",
    "from bams.testsystems import *\n",
    "from bams.sams_adapter import SAMSAdaptor"
   ]
  },
  {
   "cell_type": "markdown",
   "metadata": {},
   "source": [
    "## Rao-Blackwellized vs binary update for Gaussian mixtures"
   ]
  },
  {
   "cell_type": "code",
   "execution_count": 2,
   "metadata": {
    "collapsed": true
   },
   "outputs": [],
   "source": [
    "# Parameters of the system and free energies\n",
    "f_range = 10.0\n",
    "nstates = 5\n",
    "\n",
    "# Parameters of sams\n",
    "niterations = 1000\n",
    "repeats = 100\n",
    "beta = 0.6\n",
    "\n",
    "# Parameters of the sampler\n",
    "nmoves = 10\n",
    "save_freq = 10"
   ]
  },
  {
   "cell_type": "markdown",
   "metadata": {},
   "source": [
    "### Rao-Blackwellized update"
   ]
  },
  {
   "cell_type": "code",
   "execution_count": 3,
   "metadata": {
    "collapsed": false
   },
   "outputs": [],
   "source": [
    "f_true = np.random.uniform(low=-f_range/2.0, high=f_range/2.0, size=nstates )\n",
    "f_true -= f_true[0]\n",
    "sigmas = gen_sigmas(sigma1=1, f=f_true)\n",
    "\n",
    "generator = GaussianMixtureSampler(sigmas=sigmas)\n",
    "adaptor = SAMSAdaptor(nstates=nstates, beta=beta)\n",
    "\n",
    "rb_aggregate_msd = np.zeros((repeats,niterations))\n",
    "for r in range(repeats):\n",
    "    for i in range(niterations):\n",
    "        generator.sample(nmoves, save_freq)\n",
    "        state = generator.state\n",
    "        noisy = generator.weights\n",
    "        z = -adaptor.update(state=state, noisy_observation=noisy, histogram=generator.state_counter)\n",
    "        generator.zetas = z\n",
    "        rb_aggregate_msd[r,i] = np.mean((f_true - z)**2)"
   ]
  },
  {
   "cell_type": "markdown",
   "metadata": {},
   "source": [
    "### Binary update"
   ]
  },
  {
   "cell_type": "code",
   "execution_count": 4,
   "metadata": {
    "collapsed": false
   },
   "outputs": [],
   "source": [
    "f_true = np.random.uniform(low=-f_range/2.0, high=f_range/2.0, size=nstates )\n",
    "f_true -= f_true[0]\n",
    "sigmas = gen_sigmas(sigma1=1, f=f_true)\n",
    "\n",
    "generator = GaussianMixtureSampler(sigmas=sigmas)\n",
    "adaptor = SAMSAdaptor(nstates=nstates, beta=beta)\n",
    "\n",
    "binary_aggregate_msd = np.zeros((repeats,niterations))\n",
    "for r in range(repeats):\n",
    "    for i in range(niterations):\n",
    "        noisy = generator.sample(nmoves, save_freq)\n",
    "        state = generator.state\n",
    "        z = -adaptor.update(state=state, noisy_observation=noisy, histogram=generator.state_counter)\n",
    "        generator.zetas = z\n",
    "        binary_aggregate_msd[r,i] = np.mean((f_true - z)**2)"
   ]
  },
  {
   "cell_type": "markdown",
   "metadata": {},
   "source": [
    "#### Plotting"
   ]
  },
  {
   "cell_type": "code",
   "execution_count": 5,
   "metadata": {
    "collapsed": false
   },
   "outputs": [
    {
     "data": {
      "image/png": "[encoded data removed]",
      "text/plain": [
       "<matplotlib.figure.Figure at 0x10bfbcfd0>"
      ]
     },
     "metadata": {},
     "output_type": "display_data"
    }
   ],
   "source": [
    "plt.semilogy(rb_aggregate_msd.mean(axis=0), lw=2, label='RB')\n",
    "plt.semilogy(binary_aggregate_msd.mean(axis=0), lw=2, label='binary')\n",
    "\n",
    "plt.title('Mean-squared error of relative free energies', fontsize=14)\n",
    "plt.ylabel('Mean squared error', fontsize=12)\n",
    "plt.xlabel('Iteration', fontsize=12)\n",
    "plt.legend(fontsize=13)\n",
    "plt.show()\n"
   ]
  },
  {
   "cell_type": "code",
   "execution_count": null,
   "metadata": {
    "collapsed": true
   },
   "outputs": [],
   "source": []
  }
 ],
 "metadata": {
  "kernelspec": {
   "display_name": "Python 3",
   "language": "python",
   "name": "python3"
  },
  "language_info": {
   "codemirror_mode": {
    "name": "ipython",
    "version": 3
   },
   "file_extension": ".py",
   "mimetype": "text/x-python",
   "name": "python",
   "nbconvert_exporter": "python",
   "pygments_lexer": "ipython3",
   "version": "3.5.2"
  }
 },
 "nbformat": 4,
 "nbformat_minor": 2
}
